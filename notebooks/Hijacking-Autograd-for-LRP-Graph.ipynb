{
 "cells": [
  {
   "cell_type": "markdown",
   "metadata": {},
   "source": [
    "# Autograd trick for Graph Layers"
   ]
  },
  {
   "cell_type": "code",
   "execution_count": 1,
   "metadata": {},
   "outputs": [],
   "source": [
    "%matplotlib inline\n",
    "import networkx as nx\n",
    "import matplotlib.pyplot as plt\n",
    "import matplotlib.ticker as ticker\n",
    "import matplotlib.gridspec as gridspec\n",
    "\n",
    "import sys\n",
    "import math\n",
    "import torch\n",
    "import torch.nn as nn\n",
    "import numpy as np\n",
    "import torch_scatter\n",
    "import torchgraphs as tg\n",
    "\n",
    "import yaml\n",
    "import textwrap\n",
    "import pandas as pd\n",
    "from collections import OrderedDict\n",
    "from pathlib import Path\n",
    "from munch import munchify\n",
    "\n",
    "from infection.dataset import InfectionDataset\n",
    "from utils import import_\n",
    "import relevance as lrp\n",
    "\n",
    "np.set_printoptions(formatter={'float_kind': '{:5.2f}'.format, 'int_kind': '{:5d}'.format}, linewidth=150)"
   ]
  },
  {
   "cell_type": "code",
   "execution_count": 2,
   "metadata": {},
   "outputs": [],
   "source": [
    "def computational_graph(op):\n",
    "    if op is None:\n",
    "        return 'None'\n",
    "    res = f'{op.__class__.__name__} at {hex(id(op))}:'\n",
    "    if op.__class__.__name__ == 'AccumulateGrad':\n",
    "        res += f'variable at {hex(id(op.variable))}'\n",
    "    for op in op.next_functions:\n",
    "        res += '\\n-' + textwrap.indent(computational_graph(op[0]), ' ')\n",
    "    return res"
   ]
  },
  {
   "cell_type": "markdown",
   "metadata": {},
   "source": [
    "## Input graph"
   ]
  },
  {
   "cell_type": "code",
   "execution_count": 3,
   "metadata": {},
   "outputs": [
    {
     "data": {
      "text/plain": [
       "GraphBatch(#1, n=tensor([4]), e=tensor([3]), n_shape=torch.Size([5]), e_shape=torch.Size([3]), g_shape=torch.Size([7]))"
      ]
     },
     "execution_count": 3,
     "metadata": {},
     "output_type": "execute_result"
    }
   ],
   "source": [
    "graphs = tg.GraphBatch(\n",
    "    node_features=torch.rand(4, 5),\n",
    "    edge_features=torch.rand(3, 3),\n",
    "    global_features=torch.rand(1, 7),\n",
    "    senders=torch.tensor([0, 2, 3]),\n",
    "    receivers=torch.tensor([1, 0, 0]),\n",
    "    num_nodes_by_graph=torch.tensor([4]),\n",
    "    num_edges_by_graph=torch.tensor([3]),\n",
    ")\n",
    "graphs.requires_grad_()"
   ]
  },
  {
   "cell_type": "markdown",
   "metadata": {},
   "source": [
    "## EdgeLinear"
   ]
  },
  {
   "cell_type": "code",
   "execution_count": 4,
   "metadata": {},
   "outputs": [],
   "source": [
    "class EdgeLinearRelevance(tg.EdgeLinear):\n",
    "    def forward(self, graphs: tg.GraphBatch) -> tg.GraphBatch:\n",
    "        new_edges = torch.tensor(0)\n",
    "\n",
    "        if self.W_edge is not None:\n",
    "            new_edges = lrp.add(new_edges, lrp.linear_eps(graphs.edge_features, self.W_edge))\n",
    "        if self.W_sender is not None:\n",
    "            new_edges = lrp.add(\n",
    "                new_edges, \n",
    "                lrp.index_select(lrp.linear_eps(graphs.node_features, self.W_sender), \n",
    "                                 dim=0, index=graphs.senders)\n",
    "            )\n",
    "        if self.W_receiver is not None:\n",
    "            new_edges = lrp.add(\n",
    "                new_edges, \n",
    "                lrp.index_select(lrp.linear_eps(graphs.node_features, self.W_receiver), \n",
    "                                 dim=0, index=graphs.receivers)\n",
    "            )\n",
    "        if self.W_global is not None:\n",
    "            new_edges = lrp.add(\n",
    "                new_edges, \n",
    "                lrp.repeat_tensor(lrp.linear_eps(graphs.global_features, self.W_global), \n",
    "                                  dim=0, repeats=graphs.num_edges_by_graph)\n",
    "            )\n",
    "        if self.bias is not None:\n",
    "            new_edges = lrp.add(new_edges, self.bias)\n",
    "\n",
    "        return graphs.evolve(edge_features=new_edges)"
   ]
  },
  {
   "cell_type": "code",
   "execution_count": 5,
   "metadata": {},
   "outputs": [
    {
     "name": "stdout",
     "output_type": "stream",
     "text": [
      "AddRelevanceBackward at 0x55aaeddd2898:\n",
      "- None\n",
      "- LinearEpsilonRelevanceBackward at 0x55aaecb330f8:\n",
      " - AccumulateGrad at 0x7fd02d76c9b0:variable at 0x7fd02d494af8\n",
      " - AccumulateGrad at 0x7fd02d76cac8:variable at 0x7fd0a0344630\n"
     ]
    }
   ],
   "source": [
    "net = EdgeLinearRelevance(1, edge_features=3, sender_features=None, receiver_features=None, global_features=None, bias=False)\n",
    "out = net(graphs)\n",
    "print(computational_graph(out.edge_features.grad_fn))"
   ]
  },
  {
   "cell_type": "code",
   "execution_count": 6,
   "metadata": {},
   "outputs": [
    {
     "name": "stdout",
     "output_type": "stream",
     "text": [
      "Relevance edges out 3.0\n",
      "[[ 1.00]\n",
      " [ 1.00]\n",
      " [ 1.00]]\n",
      "\n",
      "Relevance edges in 2.999999761581421\n",
      "[[ 4.61 -1.01 -2.60]\n",
      " [-0.11  0.67  0.44]\n",
      " [-0.01  0.90  0.11]]\n",
      "\n",
      "Relevance input total 2.999999761581421\n"
     ]
    }
   ],
   "source": [
    "out = net(graphs)\n",
    "rel_out = torch.ones_like(out.edge_features) * (out.edge_features != 0).float()\n",
    "print('Relevance edges out', rel_out.sum().item())\n",
    "print(rel_out.numpy())\n",
    "\n",
    "graphs.zero_grad_()\n",
    "out.edge_features.backward(rel_out)\n",
    "rel_in = 0\n",
    "if graphs.edge_features.grad is not None:\n",
    "    rel_in += graphs.edge_features.grad.sum().item()\n",
    "    print('\\nRelevance edges in', graphs.edge_features.grad.sum().item())\n",
    "    print(graphs.edge_features.grad.numpy())\n",
    "if graphs.node_features.grad is not None:\n",
    "    rel_in += graphs.node_features.grad.sum().item()\n",
    "    print('\\nRelevance nodes in', graphs.node_features.grad.sum().item())\n",
    "    print(graphs.node_features.grad.numpy())\n",
    "if graphs.global_features.grad is not None:\n",
    "    rel_in += graphs.global_features.grad.sum().item()\n",
    "    print('\\nRelevance globals in', graphs.global_features.grad.sum().item())\n",
    "    print(graphs.global_features.grad.numpy())\n",
    "print('\\nRelevance input total', rel_in)"
   ]
  },
  {
   "cell_type": "code",
   "execution_count": 7,
   "metadata": {},
   "outputs": [
    {
     "name": "stdout",
     "output_type": "stream",
     "text": [
      "AddRelevanceBackward at 0x55aaeddda838:\n",
      "- AddRelevanceBackward at 0x55aaeddd2898:\n",
      " - None\n",
      " - LinearEpsilonRelevanceBackward at 0x55aaeddd41c8:\n",
      "  - AccumulateGrad at 0x7fd02d4ad160:variable at 0x7fd02d494af8\n",
      "  - AccumulateGrad at 0x7fd02d4ad198:variable at 0x7fd0a02f06c0\n",
      "- IndexSelectBackward at 0x7fd02d76cdd8:\n",
      " - LinearEpsilonRelevanceBackward at 0x55aaecb330f8:\n",
      "  - AccumulateGrad at 0x7fd02d4ad128:variable at 0x7fd02d494b40\n",
      "  - AccumulateGrad at 0x7fd02d4ad208:variable at 0x7fd0a02f09d8\n"
     ]
    }
   ],
   "source": [
    "net = EdgeLinearRelevance(1, edge_features=3, sender_features=None, receiver_features=None, global_features=7, bias=False)\n",
    "out = net(graphs)\n",
    "print(computational_graph(out.edge_features.grad_fn))"
   ]
  },
  {
   "cell_type": "code",
   "execution_count": 8,
   "metadata": {},
   "outputs": [
    {
     "name": "stdout",
     "output_type": "stream",
     "text": [
      "Relevance edges out 3.0\n",
      "[[ 1.00]\n",
      " [ 1.00]\n",
      " [ 1.00]]\n",
      "\n",
      "Relevance edges in -4.586839199066162\n",
      "[[-3.05 -0.15  1.19]\n",
      " [-0.43 -0.57  1.17]\n",
      " [-0.15 -4.11  1.50]]\n",
      "\n",
      "Relevance globals in 7.586838245391846\n",
      "[[ 0.12 11.95  2.31 -10.08 -3.25  5.16  1.38]]\n",
      "\n",
      "Relevance input total 2.9999990463256836\n"
     ]
    }
   ],
   "source": [
    "out = net(graphs)\n",
    "rel_out = torch.ones_like(out.edge_features) * (out.edge_features != 0).float()\n",
    "print('Relevance edges out', rel_out.sum().item())\n",
    "print(rel_out.numpy())\n",
    "\n",
    "graphs.zero_grad_()\n",
    "out.edge_features.backward(rel_out)\n",
    "rel_in = 0\n",
    "if graphs.edge_features.grad is not None:\n",
    "    rel_in += graphs.edge_features.grad.sum().item()\n",
    "    print('\\nRelevance edges in', graphs.edge_features.grad.sum().item())\n",
    "    print(graphs.edge_features.grad.numpy())\n",
    "if graphs.node_features.grad is not None:\n",
    "    rel_in += graphs.node_features.grad.sum().item()\n",
    "    print('\\nRelevance nodes in', graphs.node_features.grad.sum().item())\n",
    "    print(graphs.node_features.grad.numpy())\n",
    "if graphs.global_features.grad is not None:\n",
    "    rel_in += graphs.global_features.grad.sum().item()\n",
    "    print('\\nRelevance globals in', graphs.global_features.grad.sum().item())\n",
    "    print(graphs.global_features.grad.numpy())\n",
    "print('\\nRelevance input total', rel_in)"
   ]
  },
  {
   "cell_type": "code",
   "execution_count": 9,
   "metadata": {},
   "outputs": [
    {
     "name": "stdout",
     "output_type": "stream",
     "text": [
      "AddRelevanceBackward at 0x55aaedddce78:\n",
      "- AddRelevanceBackward at 0x55aaeddd41c8:\n",
      " - AddRelevanceBackward at 0x55aaeddd43d8:\n",
      "  - None\n",
      "  - LinearEpsilonRelevanceBackward at 0x55aaedd1a3a8:\n",
      "   - AccumulateGrad at 0x7fd02d4adf98:variable at 0x7fd02d494af8\n",
      "   - AccumulateGrad at 0x7fd02d4adfd0:variable at 0x7fd02d494630\n",
      " - IndexSelectRelevanceBackward at 0x55aaeddd2898:\n",
      "  - LinearEpsilonRelevanceBackward at 0x55aaecb330f8:\n",
      "   - AccumulateGrad at 0x7fd02d4adf60:variable at 0x7fd02d494ab0\n",
      "   - AccumulateGrad at 0x7fd02d4adeb8:variable at 0x7fd02d494cf0\n",
      "  - None\n",
      "- IndexSelectBackward at 0x7fd02d4ad048:\n",
      " - LinearEpsilonRelevanceBackward at 0x55aaeddd5b78:\n",
      "  - AccumulateGrad at 0x7fd02d4adf98:variable at 0x7fd02d494b40\n",
      "  - AccumulateGrad at 0x7fd02d4adfd0:variable at 0x7fd02d4945a0\n"
     ]
    }
   ],
   "source": [
    "net = EdgeLinearRelevance(1, edge_features=3, sender_features=5, receiver_features=None, global_features=7, bias=False)\n",
    "out = net(graphs)\n",
    "print(computational_graph(out.edge_features.grad_fn))"
   ]
  },
  {
   "cell_type": "code",
   "execution_count": 10,
   "metadata": {},
   "outputs": [
    {
     "name": "stdout",
     "output_type": "stream",
     "text": [
      "Relevance edges out 3.0\n",
      "[[ 1.00]\n",
      " [ 1.00]\n",
      " [ 1.00]]\n",
      "\n",
      "Relevance edges in -3.1179916858673096\n",
      "[[-0.04  0.07 -0.76]\n",
      " [-0.03  1.52 -4.03]\n",
      " [-0.00  0.29 -0.14]]\n",
      "\n",
      "Relevance nodes in 5.985638618469238\n",
      "[[ 1.63  0.45  0.35  0.52 -1.26]\n",
      " [ 0.00  0.00  0.00  0.00  0.00]\n",
      " [ 0.04  1.26  0.76  1.87 -0.46]\n",
      " [ 0.29  0.30  0.08  0.19 -0.03]]\n",
      "\n",
      "Relevance globals in 0.13235342502593994\n",
      "[[ 0.91 -0.42 -1.30  0.25  2.34 -1.37 -0.27]]\n",
      "\n",
      "Relevance input total 3.0000003576278687\n"
     ]
    }
   ],
   "source": [
    "out = net(graphs)\n",
    "rel_out = torch.ones_like(out.edge_features) * (out.edge_features != 0).float()\n",
    "print('Relevance edges out', rel_out.sum().item())\n",
    "print(rel_out.numpy())\n",
    "\n",
    "graphs.zero_grad_()\n",
    "out.edge_features.backward(rel_out)\n",
    "rel_in = 0\n",
    "if graphs.edge_features.grad is not None:\n",
    "    rel_in += graphs.edge_features.grad.sum().item()\n",
    "    print('\\nRelevance edges in', graphs.edge_features.grad.sum().item())\n",
    "    print(graphs.edge_features.grad.numpy())\n",
    "if graphs.node_features.grad is not None:\n",
    "    rel_in += graphs.node_features.grad.sum().item()\n",
    "    print('\\nRelevance nodes in', graphs.node_features.grad.sum().item())\n",
    "    print(graphs.node_features.grad.numpy())\n",
    "if graphs.global_features.grad is not None:\n",
    "    rel_in += graphs.global_features.grad.sum().item()\n",
    "    print('\\nRelevance globals in', graphs.global_features.grad.sum().item())\n",
    "    print(graphs.global_features.grad.numpy())\n",
    "print('\\nRelevance input total', rel_in)"
   ]
  },
  {
   "cell_type": "code",
   "execution_count": 11,
   "metadata": {},
   "outputs": [
    {
     "name": "stdout",
     "output_type": "stream",
     "text": [
      "AddRelevanceBackward at 0x55aaedde3948:\n",
      "- AddRelevanceBackward at 0x55aaedde2a08:\n",
      " - AddRelevanceBackward at 0x55aaedd1a3a8:\n",
      "  - AddRelevanceBackward at 0x55aaeddd2898:\n",
      "   - None\n",
      "   - LinearEpsilonRelevanceBackward at 0x55aaeddd41c8:\n",
      "    - AccumulateGrad at 0x7fd02d4adb38:variable at 0x7fd02d494af8\n",
      "    - AccumulateGrad at 0x7fd02d4ada20:variable at 0x7fd02d4b33a8\n",
      "  - IndexSelectRelevanceBackward at 0x55aaeddd43d8:\n",
      "   - LinearEpsilonRelevanceBackward at 0x55aaecb330f8:\n",
      "    - AccumulateGrad at 0x7fd02d4adac8:variable at 0x7fd02d494ab0\n",
      "    - AccumulateGrad at 0x7fd02d4ad9e8:variable at 0x7fd0a0393120\n",
      "   - None\n",
      " - IndexSelectRelevanceBackward at 0x55aaedde2588:\n",
      "  - LinearEpsilonRelevanceBackward at 0x55aaedddde08:\n",
      "   - AccumulateGrad at 0x7fd02d4adb38:variable at 0x7fd02d494ab0\n",
      "   - AccumulateGrad at 0x7fd02d4ada20:variable at 0x7fd0a02f0f30\n",
      "  - None\n",
      "- IndexSelectBackward at 0x7fd02d4ade10:\n",
      " - LinearEpsilonRelevanceBackward at 0x55aaedde2fd8:\n",
      "  - AccumulateGrad at 0x7fd02d4ad9e8:variable at 0x7fd02d494b40\n",
      "  - AccumulateGrad at 0x7fd02d4ad3c8:variable at 0x7fd0a02f0af8\n"
     ]
    }
   ],
   "source": [
    "net = EdgeLinearRelevance(1, edge_features=3, sender_features=5, receiver_features=5, global_features=7, bias=False)\n",
    "out = net(graphs)\n",
    "print(computational_graph(out.edge_features.grad_fn))"
   ]
  },
  {
   "cell_type": "code",
   "execution_count": 12,
   "metadata": {},
   "outputs": [
    {
     "name": "stdout",
     "output_type": "stream",
     "text": [
      "Relevance edges out 3.0\n",
      "[[ 1.00]\n",
      " [ 1.00]\n",
      " [ 1.00]]\n",
      "\n",
      "Relevance edges in 4.933183670043945\n",
      "[[-0.24 -0.04 -0.23]\n",
      " [ 0.12  0.51  0.77]\n",
      " [ 0.04  3.17  0.84]]\n",
      "\n",
      "Relevance nodes in -1.372652292251587\n",
      "[[-2.00 -0.71  0.84  0.47 -0.87]\n",
      " [ 0.19  0.49 -0.17 -0.20  0.29]\n",
      " [-0.01 -0.07  0.05  0.54 -0.15]\n",
      " [-1.26 -0.51  0.17  1.82 -0.28]]\n",
      "\n",
      "Relevance globals in -0.5605312585830688\n",
      "[[ 0.43 -0.09 -0.15 -0.85  0.19 -0.35  0.27]]\n",
      "\n",
      "Relevance input total 3.0000001192092896\n"
     ]
    }
   ],
   "source": [
    "out = net(graphs)\n",
    "rel_out = torch.ones_like(out.edge_features) * (out.edge_features != 0).float()\n",
    "print('Relevance edges out', rel_out.sum().item())\n",
    "print(rel_out.numpy())\n",
    "\n",
    "graphs.zero_grad_()\n",
    "out.edge_features.backward(rel_out)\n",
    "rel_in = 0\n",
    "if graphs.edge_features.grad is not None:\n",
    "    rel_in += graphs.edge_features.grad.sum().item()\n",
    "    print('\\nRelevance edges in', graphs.edge_features.grad.sum().item())\n",
    "    print(graphs.edge_features.grad.numpy())\n",
    "if graphs.node_features.grad is not None:\n",
    "    rel_in += graphs.node_features.grad.sum().item()\n",
    "    print('\\nRelevance nodes in', graphs.node_features.grad.sum().item())\n",
    "    print(graphs.node_features.grad.numpy())\n",
    "if graphs.global_features.grad is not None:\n",
    "    rel_in += graphs.global_features.grad.sum().item()\n",
    "    print('\\nRelevance globals in', graphs.global_features.grad.sum().item())\n",
    "    print(graphs.global_features.grad.numpy())\n",
    "print('\\nRelevance input total', rel_in)"
   ]
  },
  {
   "cell_type": "code",
   "execution_count": 13,
   "metadata": {},
   "outputs": [
    {
     "name": "stdout",
     "output_type": "stream",
     "text": [
      "AddRelevanceBackward at 0x55aaeddeb9f8:\n",
      "- AddRelevanceBackward at 0x55aaeddeb7e8:\n",
      " - AddRelevanceBackward at 0x55aaedde3948:\n",
      "  - AddRelevanceBackward at 0x55aaeddd2898:\n",
      "   - AddRelevanceBackward at 0x55aaedd1a3a8:\n",
      "    - None\n",
      "    - LinearEpsilonRelevanceBackward at 0x55aaedddde08:\n",
      "     - AccumulateGrad at 0x7fd02d4c0518:variable at 0x7fd02d494af8\n",
      "     - AccumulateGrad at 0x7fd02d4c0358:variable at 0x7fd02d4b39d8\n",
      "   - IndexSelectRelevanceBackward at 0x55aaecb330f8:\n",
      "    - LinearEpsilonRelevanceBackward at 0x55aaeddd43d8:\n",
      "     - AccumulateGrad at 0x7fd02d4c04e0:variable at 0x7fd02d494ab0\n",
      "     - AccumulateGrad at 0x7fd02d4c0550:variable at 0x7fd02d4b37e0\n",
      "    - None\n",
      "  - IndexSelectRelevanceBackward at 0x55aaedde2fd8:\n",
      "   - LinearEpsilonRelevanceBackward at 0x55aaeddd41c8:\n",
      "    - AccumulateGrad at 0x7fd02d4c0518:variable at 0x7fd02d494ab0\n",
      "    - AccumulateGrad at 0x7fd02d4c0358:variable at 0x7fd02d75d1f8\n",
      "   - None\n",
      " - IndexSelectBackward at 0x7fd02d4c03c8:\n",
      "  - LinearEpsilonRelevanceBackward at 0x55aaedde4668:\n",
      "   - AccumulateGrad at 0x7fd02d4c0550:variable at 0x7fd02d494b40\n",
      "   - AccumulateGrad at 0x7fd02d4c04a8:variable at 0x7fd02d75d870\n",
      "- AccumulateGrad at 0x7fd0a0351ba8:variable at 0x7fd02d768f78\n"
     ]
    }
   ],
   "source": [
    "net = EdgeLinearRelevance(1, edge_features=3, sender_features=5, receiver_features=5, global_features=7, bias=True)\n",
    "out = net(graphs)\n",
    "print(computational_graph(out.edge_features.grad_fn))"
   ]
  },
  {
   "cell_type": "code",
   "execution_count": 14,
   "metadata": {},
   "outputs": [
    {
     "name": "stdout",
     "output_type": "stream",
     "text": [
      "Relevance edges out 3.0\n",
      "[[ 1.00]\n",
      " [ 1.00]\n",
      " [ 1.00]]\n",
      "\n",
      "Relevance edges in -0.16393667459487915\n",
      "[[ 0.12 -0.02  0.13]\n",
      " [ 0.07 -0.41  0.54]\n",
      " [ 0.01 -0.77  0.18]]\n",
      "\n",
      "Relevance nodes in 1.0252063274383545\n",
      "[[ 0.53 -0.27  0.21  0.46 -0.37]\n",
      " [ 0.02 -0.34  0.09  0.23 -0.10]\n",
      " [ 0.01  0.06 -0.08  0.00 -0.02]\n",
      " [ 0.55  0.14 -0.08  0.00 -0.01]]\n",
      "\n",
      "Relevance globals in 0.5248541235923767\n",
      "[[-0.18 -0.01  0.05  0.29  0.01  0.53 -0.18]]\n",
      "\n",
      "Relevance input total 1.386123776435852\n"
     ]
    }
   ],
   "source": [
    "out = net(graphs)\n",
    "rel_out = torch.ones_like(out.edge_features) * (out.edge_features != 0).float()\n",
    "print('Relevance edges out', rel_out.sum().item())\n",
    "print(rel_out.numpy())\n",
    "\n",
    "graphs.zero_grad_()\n",
    "out.edge_features.backward(rel_out)\n",
    "rel_in = 0\n",
    "if graphs.edge_features.grad is not None:\n",
    "    rel_in += graphs.edge_features.grad.sum().item()\n",
    "    print('\\nRelevance edges in', graphs.edge_features.grad.sum().item())\n",
    "    print(graphs.edge_features.grad.numpy())\n",
    "if graphs.node_features.grad is not None:\n",
    "    rel_in += graphs.node_features.grad.sum().item()\n",
    "    print('\\nRelevance nodes in', graphs.node_features.grad.sum().item())\n",
    "    print(graphs.node_features.grad.numpy())\n",
    "if graphs.global_features.grad is not None:\n",
    "    rel_in += graphs.global_features.grad.sum().item()\n",
    "    print('\\nRelevance globals in', graphs.global_features.grad.sum().item())\n",
    "    print(graphs.global_features.grad.numpy())\n",
    "print('\\nRelevance input total', rel_in)"
   ]
  },
  {
   "cell_type": "markdown",
   "metadata": {},
   "source": [
    "## NodeLinear"
   ]
  },
  {
   "cell_type": "code",
   "execution_count": 15,
   "metadata": {},
   "outputs": [],
   "source": [
    "class NodeLinearRelevance(tg.NodeLinear):\n",
    "    def __init__(self, out_features, node_features=None, incoming_features=None, outgoing_features=None,\n",
    "                 global_features=None, aggregation=None, bias=True):\n",
    "        super(NodeLinearRelevance, self).__init__(out_features, node_features, incoming_features, \n",
    "                                                  outgoing_features, global_features, lrp.get_aggregation(aggregation), bias)\n",
    "    \n",
    "    def forward(self, graphs: tg.GraphBatch) -> tg.GraphBatch:\n",
    "        new_nodes = torch.tensor(0)\n",
    "\n",
    "        if self.W_node is not None:\n",
    "            new_nodes = lrp.add(\n",
    "                new_nodes,\n",
    "                lrp.linear_eps(graphs.node_features, self.W_node)\n",
    "            )\n",
    "        if self.W_incoming is not None:\n",
    "            new_nodes = lrp.add(\n",
    "                new_nodes,\n",
    "                lrp.linear_eps(self.aggregation(graphs.edge_features, dim=0, index=graphs.receivers, dim_size=graphs.num_nodes), self.W_incoming)\n",
    "            )\n",
    "        if self.W_outgoing is not None:\n",
    "            new_nodes = lrp.add(\n",
    "                new_nodes,\n",
    "                lrp.linear_eps(self.aggregation(graphs.edge_features, dim=0, index=graphs.senders, dim_size=graphs.num_nodes), self.W_outgoing)\n",
    "            )\n",
    "        if self.W_global is not None:\n",
    "            new_nodes = lrp.add(\n",
    "                new_nodes,\n",
    "                lrp.repeat_tensor(lrp.linear_eps(graphs.global_features, self.W_global), dim=0, repeats=graphs.num_nodes_by_graph)\n",
    "            )\n",
    "        if self.bias is not None:\n",
    "            new_nodes = lrp.add(new_nodes, self.bias)\n",
    "\n",
    "        return graphs.evolve(node_features=new_nodes)"
   ]
  },
  {
   "cell_type": "code",
   "execution_count": 16,
   "metadata": {},
   "outputs": [
    {
     "name": "stdout",
     "output_type": "stream",
     "text": [
      "AddRelevanceBackward at 0x55aaeddd41c8:\n",
      "- None\n",
      "- LinearEpsilonRelevanceBackward at 0x55aaedde0918:\n",
      " - AccumulateGrad at 0x7fd02d4c9390:variable at 0x7fd02d494ab0\n",
      " - AccumulateGrad at 0x7fd02d4c9438:variable at 0x7fd0a03447e0\n"
     ]
    }
   ],
   "source": [
    "net = NodeLinearRelevance(1, node_features=5, incoming_features=None, outgoing_features=None, global_features=None, bias=False)\n",
    "out = net(graphs)\n",
    "print(computational_graph(out.node_features.grad_fn))"
   ]
  },
  {
   "cell_type": "code",
   "execution_count": 17,
   "metadata": {},
   "outputs": [
    {
     "name": "stdout",
     "output_type": "stream",
     "text": [
      "Relevance nodes out 4.0\n",
      "[[ 1.00]\n",
      " [ 1.00]\n",
      " [ 1.00]\n",
      " [ 1.00]]\n",
      "\n",
      "Relevance nodes in 4.000000476837158\n",
      "[[ 5.16  3.05 -2.07 -2.25 -2.89]\n",
      " [ 0.52  2.45 -0.49 -0.80 -0.68]\n",
      " [-0.03 -1.76  0.92  1.65  0.21]\n",
      " [ 0.58  1.27 -0.30 -0.52 -0.04]]\n",
      "\n",
      "Relevance input total 4.000000476837158\n"
     ]
    }
   ],
   "source": [
    "out = net(graphs)\n",
    "rel_out = torch.ones_like(out.node_features) * (out.node_features != 0).float()\n",
    "print('Relevance nodes out', rel_out.sum().item())\n",
    "print(rel_out.numpy())\n",
    "\n",
    "graphs.zero_grad_()\n",
    "out.node_features.backward(rel_out)\n",
    "rel_in = 0\n",
    "if graphs.edge_features.grad is not None:\n",
    "    rel_in += graphs.edge_features.grad.sum().item()\n",
    "    print('\\nRelevance edges in', graphs.edge_features.grad.sum().item())\n",
    "    print(graphs.edge_features.grad.numpy())\n",
    "if graphs.node_features.grad is not None:\n",
    "    rel_in += graphs.node_features.grad.sum().item()\n",
    "    print('\\nRelevance nodes in', graphs.node_features.grad.sum().item())\n",
    "    print(graphs.node_features.grad.numpy())\n",
    "if graphs.global_features.grad is not None:\n",
    "    rel_in += graphs.global_features.grad.sum().item()\n",
    "    print('\\nRelevance globals in', graphs.global_features.grad.sum().item())\n",
    "    print(graphs.global_features.grad.numpy())\n",
    "print('\\nRelevance input total', rel_in)"
   ]
  },
  {
   "cell_type": "code",
   "execution_count": 18,
   "metadata": {},
   "outputs": [
    {
     "name": "stdout",
     "output_type": "stream",
     "text": [
      "AddRelevanceBackward at 0x55aaeddd43d8:\n",
      "- AddRelevanceBackward at 0x55aaedde0918:\n",
      " - None\n",
      " - LinearEpsilonRelevanceBackward at 0x55aaeddd41c8:\n",
      "  - AccumulateGrad at 0x7fd02d4c07f0:variable at 0x7fd02d494ab0\n",
      "  - AccumulateGrad at 0x7fd02d4c0fd0:variable at 0x7fd02d4bfca8\n",
      "- IndexSelectBackward at 0x7fd02d4c0ac8:\n",
      " - LinearEpsilonRelevanceBackward at 0x55aaecb330f8:\n",
      "  - AccumulateGrad at 0x7fd02d4c0518:variable at 0x7fd02d494b40\n",
      "  - AccumulateGrad at 0x7fd02d4c0828:variable at 0x7fd02d4bffc0\n"
     ]
    }
   ],
   "source": [
    "net = NodeLinearRelevance(1, node_features=5, incoming_features=None, outgoing_features=None, global_features=7, bias=False)\n",
    "out = net(graphs)\n",
    "print(computational_graph(out.node_features.grad_fn))"
   ]
  },
  {
   "cell_type": "code",
   "execution_count": 19,
   "metadata": {},
   "outputs": [
    {
     "name": "stdout",
     "output_type": "stream",
     "text": [
      "Relevance nodes out 4.0\n",
      "[[ 1.00]\n",
      " [ 1.00]\n",
      " [ 1.00]\n",
      " [ 1.00]]\n",
      "\n",
      "Relevance nodes in 2.092041015625\n",
      "[[ 0.88  0.17 -0.16  0.15 -0.55]\n",
      " [ 0.35  0.56 -0.16  0.22 -0.52]\n",
      " [ 0.02  0.38 -0.28  0.44 -0.16]\n",
      " [ 0.43  0.31 -0.10  0.15 -0.03]]\n",
      "\n",
      "Relevance globals in 1.907958984375\n",
      "[[ 0.87  2.23 -0.71 -1.25 -0.52  1.74 -0.45]]\n",
      "\n",
      "Relevance input total 4.0\n"
     ]
    }
   ],
   "source": [
    "out = net(graphs)\n",
    "rel_out = torch.ones_like(out.node_features) * (out.node_features != 0).float()\n",
    "print('Relevance nodes out', rel_out.sum().item())\n",
    "print(rel_out.numpy())\n",
    "\n",
    "graphs.zero_grad_()\n",
    "out.node_features.backward(rel_out)\n",
    "rel_in = 0\n",
    "if graphs.edge_features.grad is not None:\n",
    "    rel_in += graphs.edge_features.grad.sum().item()\n",
    "    print('\\nRelevance edges in', graphs.edge_features.grad.sum().item())\n",
    "    print(graphs.edge_features.grad.numpy())\n",
    "if graphs.node_features.grad is not None:\n",
    "    rel_in += graphs.node_features.grad.sum().item()\n",
    "    print('\\nRelevance nodes in', graphs.node_features.grad.sum().item())\n",
    "    print(graphs.node_features.grad.numpy())\n",
    "if graphs.global_features.grad is not None:\n",
    "    rel_in += graphs.global_features.grad.sum().item()\n",
    "    print('\\nRelevance globals in', graphs.global_features.grad.sum().item())\n",
    "    print(graphs.global_features.grad.numpy())\n",
    "print('\\nRelevance input total', rel_in)"
   ]
  },
  {
   "cell_type": "code",
   "execution_count": 20,
   "metadata": {},
   "outputs": [
    {
     "name": "stdout",
     "output_type": "stream",
     "text": [
      "AddRelevanceBackward at 0x55aaedde4668:\n",
      "- AddRelevanceBackward at 0x55aaeddd5b78:\n",
      " - AddRelevanceBackward at 0x55aaecb330f8:\n",
      "  - None\n",
      "  - LinearEpsilonRelevanceBackward at 0x55aaeddd43d8:\n",
      "   - AccumulateGrad at 0x7fd02d4befd0:variable at 0x7fd02d494ab0\n",
      "   - AccumulateGrad at 0x7fd02d4c9470:variable at 0x7fd02d4b3438\n",
      " - LinearEpsilonRelevanceBackward at 0x55aaeddd41c8:\n",
      "  - ScatterAddRelevanceBackward at 0x55aaedde0918:\n",
      "   - AccumulateGrad at 0x7fd02d4c9470:variable at 0x7fd02d494af8\n",
      "   - None\n",
      "   - None\n",
      "  - AccumulateGrad at 0x7fd02d4befd0:variable at 0x7fd02d4b3ee8\n",
      "- IndexSelectBackward at 0x7fd02d4bef98:\n",
      " - LinearEpsilonRelevanceBackward at 0x55aaedddeaf8:\n",
      "  - AccumulateGrad at 0x7fd02d4befd0:variable at 0x7fd02d494b40\n",
      "  - AccumulateGrad at 0x7fd02d4be978:variable at 0x7fd02d4b3168\n"
     ]
    }
   ],
   "source": [
    "net = NodeLinearRelevance(1, node_features=5, incoming_features=3, outgoing_features=None, global_features=7, bias=False, aggregation='sum')\n",
    "out = net(graphs)\n",
    "print(computational_graph(out.node_features.grad_fn))"
   ]
  },
  {
   "cell_type": "code",
   "execution_count": 21,
   "metadata": {},
   "outputs": [
    {
     "name": "stdout",
     "output_type": "stream",
     "text": [
      "Relevance nodes out 4.0\n",
      "[[ 1.00]\n",
      " [ 1.00]\n",
      " [ 1.00]\n",
      " [ 1.00]]\n",
      "\n",
      "Relevance edges in -0.464652419090271\n",
      "[[-0.29  0.01 -0.07]\n",
      " [-0.15  0.13 -0.24]\n",
      " [-0.01  0.21 -0.07]]\n",
      "\n",
      "Relevance nodes in 2.0217602252960205\n",
      "[[ 0.10  0.10 -0.07  0.19  0.10]\n",
      " [ 0.04  0.31 -0.07  0.26  0.09]\n",
      " [ 0.00  0.15 -0.09  0.37  0.02]\n",
      " [ 0.06  0.25 -0.06  0.27  0.01]]\n",
      "\n",
      "Relevance globals in 2.442891836166382\n",
      "[[ 0.38  0.02  0.16  1.07  0.35  0.45  0.02]]\n",
      "\n",
      "Relevance input total 3.9999996423721313\n"
     ]
    }
   ],
   "source": [
    "out = net(graphs)\n",
    "rel_out = torch.ones_like(out.node_features) * (out.node_features != 0).float()\n",
    "print('Relevance nodes out', rel_out.sum().item())\n",
    "print(rel_out.numpy())\n",
    "\n",
    "graphs.zero_grad_()\n",
    "out.node_features.backward(rel_out)\n",
    "rel_in = 0\n",
    "if graphs.edge_features.grad is not None:\n",
    "    rel_in += graphs.edge_features.grad.sum().item()\n",
    "    print('\\nRelevance edges in', graphs.edge_features.grad.sum().item())\n",
    "    print(graphs.edge_features.grad.numpy())\n",
    "if graphs.node_features.grad is not None:\n",
    "    rel_in += graphs.node_features.grad.sum().item()\n",
    "    print('\\nRelevance nodes in', graphs.node_features.grad.sum().item())\n",
    "    print(graphs.node_features.grad.numpy())\n",
    "if graphs.global_features.grad is not None:\n",
    "    rel_in += graphs.global_features.grad.sum().item()\n",
    "    print('\\nRelevance globals in', graphs.global_features.grad.sum().item())\n",
    "    print(graphs.global_features.grad.numpy())\n",
    "print('\\nRelevance input total', rel_in)"
   ]
  },
  {
   "cell_type": "code",
   "execution_count": 22,
   "metadata": {},
   "outputs": [
    {
     "name": "stdout",
     "output_type": "stream",
     "text": [
      "AddRelevanceBackward at 0x55aaecf50958:\n",
      "- AddRelevanceBackward at 0x55aaedde1538:\n",
      " - AddRelevanceBackward at 0x55aaecb330f8:\n",
      "  - AddRelevanceBackward at 0x55aaeddd5b78:\n",
      "   - None\n",
      "   - LinearEpsilonRelevanceBackward at 0x55aaedddeaf8:\n",
      "    - AccumulateGrad at 0x7fd02d4c9908:variable at 0x7fd02d494ab0\n",
      "    - AccumulateGrad at 0x7fd02d4c9f98:variable at 0x7fd02d4bfe10\n",
      "  - LinearEpsilonRelevanceBackward at 0x55aaedde0918:\n",
      "   - ScatterAddRelevanceBackward at 0x55aaeddd41c8:\n",
      "    - AccumulateGrad at 0x7fd02d4c9f60:variable at 0x7fd02d494af8\n",
      "    - None\n",
      "    - None\n",
      "   - AccumulateGrad at 0x7fd02d4c9f98:variable at 0x7fd02d4bf900\n",
      " - LinearEpsilonRelevanceBackward at 0x55aaeddd09d8:\n",
      "  - ScatterAddRelevanceBackward at 0x55aaeddd43d8:\n",
      "   - AccumulateGrad at 0x7fd02d4c9748:variable at 0x7fd02d494af8\n",
      "   - None\n",
      "   - None\n",
      "  - AccumulateGrad at 0x7fd02d4c9be0:variable at 0x7fd02d4bf828\n",
      "- IndexSelectBackward at 0x7fd02d763e48:\n",
      " - LinearEpsilonRelevanceBackward at 0x55aaeddeec38:\n",
      "  - AccumulateGrad at 0x7fd02d4c9be0:variable at 0x7fd02d494b40\n",
      "  - AccumulateGrad at 0x7fd02d4c9f98:variable at 0x7fd02d4bf708\n"
     ]
    }
   ],
   "source": [
    "net = NodeLinearRelevance(1, node_features=5, incoming_features=3, outgoing_features=3, global_features=7, bias=False, aggregation='sum')\n",
    "out = net(graphs)\n",
    "print(computational_graph(out.node_features.grad_fn))"
   ]
  },
  {
   "cell_type": "code",
   "execution_count": 23,
   "metadata": {},
   "outputs": [
    {
     "name": "stdout",
     "output_type": "stream",
     "text": [
      "Relevance nodes out 4.0\n",
      "[[ 1.00]\n",
      " [ 1.00]\n",
      " [ 1.00]\n",
      " [ 1.00]]\n",
      "\n",
      "Relevance edges in 1.6231404542922974\n",
      "[[ 1.29 -0.08 -0.23]\n",
      " [-1.31 -0.04  1.53]\n",
      " [-0.04  0.32  0.17]]\n",
      "\n",
      "Relevance nodes in 0.1613001823425293\n",
      "[[-0.28 -0.01  0.02 -0.03  0.29]\n",
      " [ 0.37  0.07 -0.07  0.13 -0.88]\n",
      " [ 0.03  0.08 -0.23  0.46 -0.46]\n",
      " [ 0.62  0.05 -0.07  0.13 -0.07]]\n",
      "\n",
      "Relevance globals in 2.2155590057373047\n",
      "[[-0.98  1.20  1.24 -0.75 -1.34  2.58  0.27]]\n",
      "\n",
      "Relevance input total 3.9999996423721313\n"
     ]
    }
   ],
   "source": [
    "out = net(graphs)\n",
    "rel_out = torch.ones_like(out.node_features) * (out.node_features != 0).float()\n",
    "print('Relevance nodes out', rel_out.sum().item())\n",
    "print(rel_out.numpy())\n",
    "\n",
    "graphs.zero_grad_()\n",
    "out.node_features.backward(rel_out)\n",
    "rel_in = 0\n",
    "if graphs.edge_features.grad is not None:\n",
    "    rel_in += graphs.edge_features.grad.sum().item()\n",
    "    print('\\nRelevance edges in', graphs.edge_features.grad.sum().item())\n",
    "    print(graphs.edge_features.grad.numpy())\n",
    "if graphs.node_features.grad is not None:\n",
    "    rel_in += graphs.node_features.grad.sum().item()\n",
    "    print('\\nRelevance nodes in', graphs.node_features.grad.sum().item())\n",
    "    print(graphs.node_features.grad.numpy())\n",
    "if graphs.global_features.grad is not None:\n",
    "    rel_in += graphs.global_features.grad.sum().item()\n",
    "    print('\\nRelevance globals in', graphs.global_features.grad.sum().item())\n",
    "    print(graphs.global_features.grad.numpy())\n",
    "print('\\nRelevance input total', rel_in)"
   ]
  },
  {
   "cell_type": "code",
   "execution_count": 24,
   "metadata": {},
   "outputs": [
    {
     "name": "stdout",
     "output_type": "stream",
     "text": [
      "AddRelevanceBackward at 0x55aaeddf2498:\n",
      "- AddRelevanceBackward at 0x55aaecf50958:\n",
      " - AddRelevanceBackward at 0x55aaeddd5b78:\n",
      "  - AddRelevanceBackward at 0x55aaecb330f8:\n",
      "   - None\n",
      "   - LinearEpsilonRelevanceBackward at 0x55aaeddd43d8:\n",
      "    - AccumulateGrad at 0x7fd0a0351dd8:variable at 0x7fd02d494ab0\n",
      "    - AccumulateGrad at 0x7fd0a0351d30:variable at 0x7fd02d4bfaf8\n",
      "  - LinearEpsilonRelevanceBackward at 0x55aaeddd41c8:\n",
      "   - ScatterMaxRelevanceBackward at 0x55aaedde0918:\n",
      "    - AccumulateGrad at 0x7fd0a0351240:variable at 0x7fd02d494af8\n",
      "    - None\n",
      "   - AccumulateGrad at 0x7fd0a0351d30:variable at 0x7fd02d4bf948\n",
      " - LinearEpsilonRelevanceBackward at 0x55aaedddafb8:\n",
      "  - ScatterMaxRelevanceBackward at 0x55aaedddeaf8:\n",
      "   - AccumulateGrad at 0x7fd0a0351ba8:variable at 0x7fd02d494af8\n",
      "   - None\n",
      "  - AccumulateGrad at 0x7fd0a0351d68:variable at 0x7fd02d4bf750\n",
      "- IndexSelectBackward at 0x7fd0a0351128:\n",
      " - LinearEpsilonRelevanceBackward at 0x55aaeddeec38:\n",
      "  - AccumulateGrad at 0x7fd0a0351d68:variable at 0x7fd02d494b40\n",
      "  - AccumulateGrad at 0x7fd0a0351d30:variable at 0x7fd02d4bffc0\n"
     ]
    }
   ],
   "source": [
    "net = NodeLinearRelevance(1, node_features=5, incoming_features=3, outgoing_features=3, global_features=7, bias=False, aggregation='max')\n",
    "out = net(graphs)\n",
    "print(computational_graph(out.node_features.grad_fn))"
   ]
  },
  {
   "cell_type": "code",
   "execution_count": 25,
   "metadata": {},
   "outputs": [
    {
     "name": "stdout",
     "output_type": "stream",
     "text": [
      "Relevance nodes out 4.0\n",
      "[[ 1.00]\n",
      " [ 1.00]\n",
      " [ 1.00]\n",
      " [ 1.00]]\n",
      "\n",
      "Relevance edges in 3.8288698196411133\n",
      "[[ 0.70  0.08  0.73]\n",
      " [-0.31 -0.49  2.96]\n",
      " [-0.06 -1.18  1.40]]\n",
      "\n",
      "Relevance nodes in -4.182224750518799\n",
      "[[ 0.25 -0.05  0.07 -0.10 -0.15]\n",
      " [ 0.54 -0.88  0.35 -0.77 -0.72]\n",
      " [ 0.03 -0.64  0.66 -1.59 -0.23]\n",
      " [ 3.23 -2.43  1.12 -2.66 -0.21]]\n",
      "\n",
      "Relevance globals in 4.3533549308776855\n",
      "[[-0.87  1.64 -1.29  2.38  2.90  0.19 -0.60]]\n",
      "\n",
      "Relevance input total 4.0\n"
     ]
    }
   ],
   "source": [
    "out = net(graphs)\n",
    "rel_out = torch.ones_like(out.node_features) * (out.node_features != 0).float()\n",
    "print('Relevance nodes out', rel_out.sum().item())\n",
    "print(rel_out.numpy())\n",
    "\n",
    "graphs.zero_grad_()\n",
    "out.node_features.backward(rel_out)\n",
    "rel_in = 0\n",
    "if graphs.edge_features.grad is not None:\n",
    "    rel_in += graphs.edge_features.grad.sum().item()\n",
    "    print('\\nRelevance edges in', graphs.edge_features.grad.sum().item())\n",
    "    print(graphs.edge_features.grad.numpy())\n",
    "if graphs.node_features.grad is not None:\n",
    "    rel_in += graphs.node_features.grad.sum().item()\n",
    "    print('\\nRelevance nodes in', graphs.node_features.grad.sum().item())\n",
    "    print(graphs.node_features.grad.numpy())\n",
    "if graphs.global_features.grad is not None:\n",
    "    rel_in += graphs.global_features.grad.sum().item()\n",
    "    print('\\nRelevance globals in', graphs.global_features.grad.sum().item())\n",
    "    print(graphs.global_features.grad.numpy())\n",
    "print('\\nRelevance input total', rel_in)"
   ]
  },
  {
   "cell_type": "code",
   "execution_count": 26,
   "metadata": {},
   "outputs": [
    {
     "name": "stdout",
     "output_type": "stream",
     "text": [
      "AddRelevanceBackward at 0x55aaecf50958:\n",
      "- AddRelevanceBackward at 0x55aaeddd43d8:\n",
      " - AddRelevanceBackward at 0x55aaeddd41c8:\n",
      "  - AddRelevanceBackward at 0x55aaedddeaf8:\n",
      "   - None\n",
      "   - LinearEpsilonRelevanceBackward at 0x55aaecf28ca8:\n",
      "    - AccumulateGrad at 0x7fd02d4c9b70:variable at 0x7fd02d494ab0\n",
      "    - AccumulateGrad at 0x7fd02d4c9f60:variable at 0x7fd0a02f0a20\n",
      "  - LinearEpsilonRelevanceBackward at 0x55aaedb762e8:\n",
      "   - ScatterMeanRelevanceBackward at 0x55aaeddd5b78:\n",
      "    - AccumulateGrad at 0x7fd02d4c9be0:variable at 0x7fd02d494af8\n",
      "    - None\n",
      "   - AccumulateGrad at 0x7fd02d4c9f60:variable at 0x7fd0a02f0168\n",
      " - LinearEpsilonRelevanceBackward at 0x55aaecb330f8:\n",
      "  - ScatterMeanRelevanceBackward at 0x55aaedde0918:\n",
      "   - AccumulateGrad at 0x7fd02d4c9748:variable at 0x7fd02d494af8\n",
      "   - None\n",
      "  - AccumulateGrad at 0x7fd02d4c9400:variable at 0x7fd0a02f00d8\n",
      "- IndexSelectBackward at 0x7fd0a0351cf8:\n",
      " - LinearEpsilonRelevanceBackward at 0x55aaeddd9658:\n",
      "  - AccumulateGrad at 0x7fd02d4c9400:variable at 0x7fd02d494b40\n",
      "  - AccumulateGrad at 0x7fd02d4c9f60:variable at 0x7fd0a02f0480\n"
     ]
    }
   ],
   "source": [
    "net = NodeLinearRelevance(1, node_features=5, incoming_features=3, outgoing_features=3, global_features=7, bias=False, aggregation='mean')\n",
    "out = net(graphs)\n",
    "print(computational_graph(out.node_features.grad_fn))"
   ]
  },
  {
   "cell_type": "code",
   "execution_count": 27,
   "metadata": {},
   "outputs": [
    {
     "name": "stdout",
     "output_type": "stream",
     "text": [
      "Relevance nodes out 4.0\n",
      "[[ 1.00]\n",
      " [ 1.00]\n",
      " [ 1.00]\n",
      " [ 1.00]]\n",
      "\n",
      "Relevance edges in 1.6806154251098633\n",
      "[[-0.39  0.04 -0.14]\n",
      " [ 0.10 -0.11  1.55]\n",
      " [-0.05  2.27 -1.58]]\n",
      "\n",
      "Relevance nodes in -2.9802086353302\n",
      "[[-0.09  0.04 -0.27 -0.25  0.47]\n",
      " [-0.04  0.14 -0.27 -0.36  0.45]\n",
      " [ 0.00 -0.08  0.39  0.58 -0.11]\n",
      " [-0.43  0.74 -1.69 -2.47  0.26]]\n",
      "\n",
      "Relevance globals in 5.299594402313232\n",
      "[[ 1.14  2.65  0.85  0.72 -0.91  1.48 -0.63]]\n",
      "\n",
      "Relevance input total 4.0000011920928955\n"
     ]
    }
   ],
   "source": [
    "out = net(graphs)\n",
    "rel_out = torch.ones_like(out.node_features) * (out.node_features != 0).float()\n",
    "print('Relevance nodes out', rel_out.sum().item())\n",
    "print(rel_out.numpy())\n",
    "\n",
    "graphs.zero_grad_()\n",
    "out.node_features.backward(rel_out)\n",
    "rel_in = 0\n",
    "if graphs.edge_features.grad is not None:\n",
    "    rel_in += graphs.edge_features.grad.sum().item()\n",
    "    print('\\nRelevance edges in', graphs.edge_features.grad.sum().item())\n",
    "    print(graphs.edge_features.grad.numpy())\n",
    "if graphs.node_features.grad is not None:\n",
    "    rel_in += graphs.node_features.grad.sum().item()\n",
    "    print('\\nRelevance nodes in', graphs.node_features.grad.sum().item())\n",
    "    print(graphs.node_features.grad.numpy())\n",
    "if graphs.global_features.grad is not None:\n",
    "    rel_in += graphs.global_features.grad.sum().item()\n",
    "    print('\\nRelevance globals in', graphs.global_features.grad.sum().item())\n",
    "    print(graphs.global_features.grad.numpy())\n",
    "print('\\nRelevance input total', rel_in)"
   ]
  },
  {
   "cell_type": "code",
   "execution_count": 28,
   "metadata": {},
   "outputs": [
    {
     "name": "stdout",
     "output_type": "stream",
     "text": [
      "AddRelevanceBackward at 0x55aaecf50958:\n",
      "- AddRelevanceBackward at 0x55aaeddd0168:\n",
      " - AddRelevanceBackward at 0x55aaeddd9658:\n",
      "  - AddRelevanceBackward at 0x55aaedddeaf8:\n",
      "   - AddRelevanceBackward at 0x55aaeddd41c8:\n",
      "    - None\n",
      "    - LinearEpsilonRelevanceBackward at 0x55aaedde0918:\n",
      "     - AccumulateGrad at 0x7fd02d4c07b8:variable at 0x7fd02d494ab0\n",
      "     - AccumulateGrad at 0x7fd02d4c0f98:variable at 0x7fd02d4a7360\n",
      "   - LinearEpsilonRelevanceBackward at 0x55aaeddd5b78:\n",
      "    - ScatterMeanRelevanceBackward at 0x55aaedb762e8:\n",
      "     - AccumulateGrad at 0x7fd02d4c0c18:variable at 0x7fd02d494af8\n",
      "     - None\n",
      "    - AccumulateGrad at 0x7fd02d4c0f98:variable at 0x7fd02d4a7d80\n",
      "  - LinearEpsilonRelevanceBackward at 0x55aaeddd43d8:\n",
      "   - ScatterMeanRelevanceBackward at 0x55aaecf28ca8:\n",
      "    - AccumulateGrad at 0x7fd02d4c0dd8:variable at 0x7fd02d494af8\n",
      "    - None\n",
      "   - AccumulateGrad at 0x7fd02d4c0940:variable at 0x7fd02d4a7a20\n",
      " - IndexSelectBackward at 0x7fd02d4be2b0:\n",
      "  - LinearEpsilonRelevanceBackward at 0x55aaeddd0bf8:\n",
      "   - AccumulateGrad at 0x7fd02d4c0940:variable at 0x7fd02d494b40\n",
      "   - AccumulateGrad at 0x7fd02d4c0f98:variable at 0x7fd02d4a7fc0\n",
      "- AccumulateGrad at 0x7fd02d4be588:variable at 0x7fd02d4a7990\n"
     ]
    }
   ],
   "source": [
    "net = NodeLinearRelevance(1, node_features=5, incoming_features=3, outgoing_features=3, global_features=7, bias=True, aggregation='mean')\n",
    "out = net(graphs)\n",
    "print(computational_graph(out.node_features.grad_fn))"
   ]
  },
  {
   "cell_type": "code",
   "execution_count": 29,
   "metadata": {},
   "outputs": [
    {
     "name": "stdout",
     "output_type": "stream",
     "text": [
      "Relevance nodes out 4.0\n",
      "[[ 1.00]\n",
      " [ 1.00]\n",
      " [ 1.00]\n",
      " [ 1.00]]\n",
      "\n",
      "Relevance edges in 3.1812233924865723\n",
      "[[-0.50  0.12 -0.18]\n",
      " [ 0.84  0.05  2.23]\n",
      " [ 0.07 -0.09  0.64]]\n",
      "\n",
      "Relevance nodes in 6.130515098571777\n",
      "[[-1.97  0.41 -0.28  1.93  2.10]\n",
      " [-0.10  0.17 -0.03  0.35  0.25]\n",
      " [-0.01  0.31 -0.16  1.83  0.20]\n",
      " [-0.66  0.51 -0.12  1.33  0.08]]\n",
      "\n",
      "Relevance globals in -0.9691047668457031\n",
      "[[-1.95 -1.08  1.71 -5.48  3.85  2.07 -0.10]]\n",
      "\n",
      "Relevance input total 8.342633724212646\n"
     ]
    }
   ],
   "source": [
    "out = net(graphs)\n",
    "rel_out = torch.ones_like(out.node_features) * (out.node_features != 0).float()\n",
    "print('Relevance nodes out', rel_out.sum().item())\n",
    "print(rel_out.numpy())\n",
    "\n",
    "graphs.zero_grad_()\n",
    "out.node_features.backward(rel_out)\n",
    "rel_in = 0\n",
    "if graphs.edge_features.grad is not None:\n",
    "    rel_in += graphs.edge_features.grad.sum().item()\n",
    "    print('\\nRelevance edges in', graphs.edge_features.grad.sum().item())\n",
    "    print(graphs.edge_features.grad.numpy())\n",
    "if graphs.node_features.grad is not None:\n",
    "    rel_in += graphs.node_features.grad.sum().item()\n",
    "    print('\\nRelevance nodes in', graphs.node_features.grad.sum().item())\n",
    "    print(graphs.node_features.grad.numpy())\n",
    "if graphs.global_features.grad is not None:\n",
    "    rel_in += graphs.global_features.grad.sum().item()\n",
    "    print('\\nRelevance globals in', graphs.global_features.grad.sum().item())\n",
    "    print(graphs.global_features.grad.numpy())\n",
    "print('\\nRelevance input total', rel_in)"
   ]
  },
  {
   "cell_type": "markdown",
   "metadata": {},
   "source": [
    "## Global Linear"
   ]
  },
  {
   "cell_type": "code",
   "execution_count": 30,
   "metadata": {},
   "outputs": [],
   "source": [
    "class GlobalLinearRelevance(tg.GlobalLinear):\n",
    "    def __init__(self, out_features, node_features=None, edge_features=None, global_features=None,\n",
    "                 aggregation=None, bias=True):\n",
    "        super(GlobalLinearRelevance, self).__init__(out_features, node_features, edge_features, \n",
    "                                                    global_features, lrp.get_aggregation(aggregation), bias)\n",
    "    \n",
    "    def forward(self, graphs: tg.GraphBatch) -> tg.GraphBatch:\n",
    "        new_globals = torch.tensor(0)\n",
    "\n",
    "        if self.W_node is not None:\n",
    "            index = tg.utils.segment_lengths_to_ids(graphs.num_nodes_by_graph)\n",
    "            new_globals = lrp.add(\n",
    "                new_globals,\n",
    "                lrp.linear_eps(self.aggregation(graphs.node_features, dim=0, index=index, dim_size=graphs.num_graphs), self.W_node)\n",
    "            )\n",
    "        if self.W_edges is not None:\n",
    "            index = tg.utils.segment_lengths_to_ids(graphs.num_edges_by_graph)\n",
    "            new_globals = lrp.add(\n",
    "                new_globals,\n",
    "                lrp.linear_eps(self.aggregation(graphs.edge_features, dim=0, index=index, dim_size=graphs.num_graphs), self.W_edges)\n",
    "            )\n",
    "        if self.W_global is not None:\n",
    "            new_globals = lrp.add(\n",
    "                new_globals,\n",
    "                lrp.linear_eps(graphs.global_features, self.W_global)\n",
    "            )\n",
    "        if self.bias is not None:\n",
    "            new_globals = lrp.add(new_globals, self.bias)\n",
    "\n",
    "        return graphs.evolve(global_features=new_globals)"
   ]
  },
  {
   "cell_type": "code",
   "execution_count": 31,
   "metadata": {},
   "outputs": [
    {
     "name": "stdout",
     "output_type": "stream",
     "text": [
      "AddRelevanceBackward at 0x55aaedb762e8:\n",
      "- None\n",
      "- LinearEpsilonRelevanceBackward at 0x55aaeddd5b78:\n",
      " - AccumulateGrad at 0x7fd02d4be278:variable at 0x7fd02d494b40\n",
      " - AccumulateGrad at 0x7fd02d4bed30:variable at 0x7fd0a02f0480\n"
     ]
    }
   ],
   "source": [
    "net = GlobalLinearRelevance(1, node_features=None, edge_features=None, global_features=7, bias=False)\n",
    "out = net(graphs)\n",
    "print(computational_graph(out.global_features.grad_fn))"
   ]
  },
  {
   "cell_type": "code",
   "execution_count": 32,
   "metadata": {},
   "outputs": [
    {
     "name": "stdout",
     "output_type": "stream",
     "text": [
      "Relevance global out 1.0\n",
      "[[ 1.00]]\n",
      "\n",
      "Relevance globals in 0.9999998211860657\n",
      "[[-0.25 -0.39 -0.06 -1.75  1.55  2.06 -0.16]]\n",
      "\n",
      "Relevance input total 0.9999998211860657\n"
     ]
    }
   ],
   "source": [
    "out = net(graphs)\n",
    "rel_out = torch.ones_like(out.global_features) * (out.global_features != 0).float()\n",
    "print('Relevance global out', rel_out.sum().item())\n",
    "print(rel_out.numpy())\n",
    "\n",
    "graphs.zero_grad_()\n",
    "out.global_features.backward(rel_out)\n",
    "rel_in = 0\n",
    "if graphs.edge_features.grad is not None:\n",
    "    rel_in += graphs.edge_features.grad.sum().item()\n",
    "    print('\\nRelevance edges in', graphs.edge_features.grad.sum().item())\n",
    "    print(graphs.edge_features.grad.numpy())\n",
    "if graphs.node_features.grad is not None:\n",
    "    rel_in += graphs.node_features.grad.sum().item()\n",
    "    print('\\nRelevance nodes in', graphs.node_features.grad.sum().item())\n",
    "    print(graphs.node_features.grad.numpy())\n",
    "if graphs.global_features.grad is not None:\n",
    "    rel_in += graphs.global_features.grad.sum().item()\n",
    "    print('\\nRelevance globals in', graphs.global_features.grad.sum().item())\n",
    "    print(graphs.global_features.grad.numpy())\n",
    "print('\\nRelevance input total', rel_in)"
   ]
  },
  {
   "cell_type": "code",
   "execution_count": 33,
   "metadata": {},
   "outputs": [
    {
     "name": "stdout",
     "output_type": "stream",
     "text": [
      "AddRelevanceBackward at 0x55aaeddd9658:\n",
      "- AddRelevanceBackward at 0x55aaeddd41c8:\n",
      " - None\n",
      " - LinearEpsilonRelevanceBackward at 0x55aaedde3948:\n",
      "  - ScatterAddRelevanceBackward at 0x55aaedddde08:\n",
      "   - AccumulateGrad at 0x7fd02d4c9a58:variable at 0x7fd02d494ab0\n",
      "   - None\n",
      "   - None\n",
      "  - AccumulateGrad at 0x7fd02d4c9d68:variable at 0x7fd02d4bf900\n",
      "- LinearEpsilonRelevanceBackward at 0x55aaedde0918:\n",
      " - AccumulateGrad at 0x7fd02d4c9d68:variable at 0x7fd02d494b40\n",
      " - AccumulateGrad at 0x7fd02d4c9390:variable at 0x7fd02d4c7558\n"
     ]
    }
   ],
   "source": [
    "net = GlobalLinearRelevance(1, node_features=5, edge_features=None, global_features=7, bias=False, aggregation='sum')\n",
    "out = net(graphs)\n",
    "print(computational_graph(out.global_features.grad_fn))"
   ]
  },
  {
   "cell_type": "code",
   "execution_count": 34,
   "metadata": {},
   "outputs": [
    {
     "name": "stdout",
     "output_type": "stream",
     "text": [
      "Relevance global out 1.0\n",
      "[[ 1.00]]\n",
      "\n",
      "Relevance nodes in 0.7885957956314087\n",
      "[[ 0.21 -0.03  0.07  0.04  0.01]\n",
      " [ 0.08 -0.09  0.06  0.05  0.00]\n",
      " [ 0.00 -0.05  0.10  0.09  0.00]\n",
      " [ 0.21 -0.11  0.09  0.07  0.00]]\n",
      "\n",
      "Relevance globals in 0.21140411496162415\n",
      "[[-0.01  0.06  0.04 -0.05  0.04  0.11  0.02]]\n",
      "\n",
      "Relevance input total 0.9999999105930328\n"
     ]
    }
   ],
   "source": [
    "out = net(graphs)\n",
    "rel_out = torch.ones_like(out.global_features) * (out.global_features != 0).float()\n",
    "print('Relevance global out', rel_out.sum().item())\n",
    "print(rel_out.numpy())\n",
    "\n",
    "graphs.zero_grad_()\n",
    "out.global_features.backward(rel_out)\n",
    "rel_in = 0\n",
    "if graphs.edge_features.grad is not None:\n",
    "    rel_in += graphs.edge_features.grad.sum().item()\n",
    "    print('\\nRelevance edges in', graphs.edge_features.grad.sum().item())\n",
    "    print(graphs.edge_features.grad.numpy())\n",
    "if graphs.node_features.grad is not None:\n",
    "    rel_in += graphs.node_features.grad.sum().item()\n",
    "    print('\\nRelevance nodes in', graphs.node_features.grad.sum().item())\n",
    "    print(graphs.node_features.grad.numpy())\n",
    "if graphs.global_features.grad is not None:\n",
    "    rel_in += graphs.global_features.grad.sum().item()\n",
    "    print('\\nRelevance globals in', graphs.global_features.grad.sum().item())\n",
    "    print(graphs.global_features.grad.numpy())\n",
    "print('\\nRelevance input total', rel_in)"
   ]
  },
  {
   "cell_type": "code",
   "execution_count": 35,
   "metadata": {},
   "outputs": [
    {
     "name": "stdout",
     "output_type": "stream",
     "text": [
      "AddRelevanceBackward at 0x55aaeddfce78:\n",
      "- AddRelevanceBackward at 0x55aaedddde08:\n",
      " - AddRelevanceBackward at 0x55aaedde0918:\n",
      "  - None\n",
      "  - LinearEpsilonRelevanceBackward at 0x55aaeddd9658:\n",
      "   - ScatterAddRelevanceBackward at 0x55aaedd1a3a8:\n",
      "    - AccumulateGrad at 0x7fd02c45ae48:variable at 0x7fd02d494ab0\n",
      "    - None\n",
      "    - None\n",
      "   - AccumulateGrad at 0x7fd02d4c9ac8:variable at 0x7fd02c462c18\n",
      " - LinearEpsilonRelevanceBackward at 0x55aaedde3948:\n",
      "  - ScatterAddRelevanceBackward at 0x55aaeddd41c8:\n",
      "   - AccumulateGrad at 0x7fd02c45ae80:variable at 0x7fd02d494af8\n",
      "   - None\n",
      "   - None\n",
      "  - AccumulateGrad at 0x7fd02d4c9ac8:variable at 0x7fd02c462a68\n",
      "- LinearEpsilonRelevanceBackward at 0x55aaeddf4d58:\n",
      " - AccumulateGrad at 0x7fd02d4c9278:variable at 0x7fd02d494b40\n",
      " - AccumulateGrad at 0x7fd02d4c9ac8:variable at 0x7fd02c4622d0\n"
     ]
    }
   ],
   "source": [
    "net = GlobalLinearRelevance(1, node_features=5, edge_features=3, global_features=7, bias=False, aggregation='sum')\n",
    "out = net(graphs)\n",
    "print(computational_graph(out.global_features.grad_fn))"
   ]
  },
  {
   "cell_type": "code",
   "execution_count": 36,
   "metadata": {},
   "outputs": [
    {
     "name": "stdout",
     "output_type": "stream",
     "text": [
      "Relevance global out 1.0\n",
      "[[ 1.00]]\n",
      "\n",
      "Relevance edges in 1.113856554031372\n",
      "[[-0.19  0.01  0.16]\n",
      " [-0.10  0.20  0.58]\n",
      " [-0.01  0.31  0.16]]\n",
      "\n",
      "Relevance nodes in 0.24859696626663208\n",
      "[[ 0.02  0.01 -0.14  0.17 -0.18]\n",
      " [ 0.01  0.02 -0.12  0.23 -0.16]\n",
      " [ 0.00  0.01 -0.20  0.42 -0.05]\n",
      " [ 0.02  0.02 -0.18  0.36 -0.02]]\n",
      "\n",
      "Relevance globals in -0.36245331168174744\n",
      "[[-0.04  0.28 -0.07 -0.12 -0.26 -0.21  0.06]]\n",
      "\n",
      "Relevance input total 1.0000002086162567\n"
     ]
    }
   ],
   "source": [
    "out = net(graphs)\n",
    "rel_out = torch.ones_like(out.global_features) * (out.global_features != 0).float()\n",
    "print('Relevance global out', rel_out.sum().item())\n",
    "print(rel_out.numpy())\n",
    "\n",
    "graphs.zero_grad_()\n",
    "out.global_features.backward(rel_out)\n",
    "rel_in = 0\n",
    "if graphs.edge_features.grad is not None:\n",
    "    rel_in += graphs.edge_features.grad.sum().item()\n",
    "    print('\\nRelevance edges in', graphs.edge_features.grad.sum().item())\n",
    "    print(graphs.edge_features.grad.numpy())\n",
    "if graphs.node_features.grad is not None:\n",
    "    rel_in += graphs.node_features.grad.sum().item()\n",
    "    print('\\nRelevance nodes in', graphs.node_features.grad.sum().item())\n",
    "    print(graphs.node_features.grad.numpy())\n",
    "if graphs.global_features.grad is not None:\n",
    "    rel_in += graphs.global_features.grad.sum().item()\n",
    "    print('\\nRelevance globals in', graphs.global_features.grad.sum().item())\n",
    "    print(graphs.global_features.grad.numpy())\n",
    "print('\\nRelevance input total', rel_in)"
   ]
  },
  {
   "cell_type": "code",
   "execution_count": 37,
   "metadata": {},
   "outputs": [
    {
     "name": "stdout",
     "output_type": "stream",
     "text": [
      "AddRelevanceBackward at 0x55aaecf28ca8:\n",
      "- AddRelevanceBackward at 0x55aaeddd9658:\n",
      " - AddRelevanceBackward at 0x55aaedde3948:\n",
      "  - None\n",
      "  - LinearEpsilonRelevanceBackward at 0x55aaedddde08:\n",
      "   - ScatterMaxRelevanceBackward at 0x55aaeddf4d58:\n",
      "    - AccumulateGrad at 0x7fd0a03519e8:variable at 0x7fd02d494ab0\n",
      "    - None\n",
      "   - AccumulateGrad at 0x7fd0a0351630:variable at 0x7fd02d4c7e10\n",
      " - LinearEpsilonRelevanceBackward at 0x55aaedde0918:\n",
      "  - ScatterMaxRelevanceBackward at 0x55aaeddd41c8:\n",
      "   - AccumulateGrad at 0x7fd0a0351d30:variable at 0x7fd02d494af8\n",
      "   - None\n",
      "  - AccumulateGrad at 0x7fd0a0351630:variable at 0x7fd02d4c7c60\n",
      "- LinearEpsilonRelevanceBackward at 0x55aaedd1a3a8:\n",
      " - AccumulateGrad at 0x7fd0a0351940:variable at 0x7fd02d494b40\n",
      " - AccumulateGrad at 0x7fd0a0351630:variable at 0x7fd02d4c7d80\n"
     ]
    }
   ],
   "source": [
    "net = GlobalLinearRelevance(1, node_features=5, edge_features=3, global_features=7, bias=False, aggregation='max')\n",
    "out = net(graphs)\n",
    "print(computational_graph(out.global_features.grad_fn))"
   ]
  },
  {
   "cell_type": "code",
   "execution_count": 38,
   "metadata": {},
   "outputs": [
    {
     "name": "stdout",
     "output_type": "stream",
     "text": [
      "Relevance global out 1.0\n",
      "[[ 1.00]]\n",
      "\n",
      "Relevance edges in 0.6134206652641296\n",
      "[[ 0.03  0.00  0.00]\n",
      " [ 0.00  0.00  0.31]\n",
      " [ 0.00  0.27  0.00]]\n",
      "\n",
      "Relevance nodes in 0.368700236082077\n",
      "[[ 0.00  0.00  0.00  0.00  0.10]\n",
      " [ 0.00  0.00  0.00  0.00  0.00]\n",
      " [ 0.00  0.00  0.08  0.17  0.00]\n",
      " [ 0.02 -0.01  0.00  0.00  0.00]]\n",
      "\n",
      "Relevance globals in 0.017879139631986618\n",
      "[[-0.00  0.08  0.02 -0.13 -0.08  0.11  0.02]]\n",
      "\n",
      "Relevance input total 1.0000000409781933\n"
     ]
    }
   ],
   "source": [
    "out = net(graphs)\n",
    "rel_out = torch.ones_like(out.global_features) * (out.global_features != 0).float()\n",
    "print('Relevance global out', rel_out.sum().item())\n",
    "print(rel_out.numpy())\n",
    "\n",
    "graphs.zero_grad_()\n",
    "out.global_features.backward(rel_out)\n",
    "rel_in = 0\n",
    "if graphs.edge_features.grad is not None:\n",
    "    rel_in += graphs.edge_features.grad.sum().item()\n",
    "    print('\\nRelevance edges in', graphs.edge_features.grad.sum().item())\n",
    "    print(graphs.edge_features.grad.numpy())\n",
    "if graphs.node_features.grad is not None:\n",
    "    rel_in += graphs.node_features.grad.sum().item()\n",
    "    print('\\nRelevance nodes in', graphs.node_features.grad.sum().item())\n",
    "    print(graphs.node_features.grad.numpy())\n",
    "if graphs.global_features.grad is not None:\n",
    "    rel_in += graphs.global_features.grad.sum().item()\n",
    "    print('\\nRelevance globals in', graphs.global_features.grad.sum().item())\n",
    "    print(graphs.global_features.grad.numpy())\n",
    "print('\\nRelevance input total', rel_in)"
   ]
  },
  {
   "cell_type": "code",
   "execution_count": 39,
   "metadata": {},
   "outputs": [
    {
     "name": "stdout",
     "output_type": "stream",
     "text": [
      "AddRelevanceBackward at 0x55aaeddcad18:\n",
      "- AddRelevanceBackward at 0x55aaeddf4d58:\n",
      " - AddRelevanceBackward at 0x55aaeddd41c8:\n",
      "  - None\n",
      "  - LinearEpsilonRelevanceBackward at 0x55aaedde0918:\n",
      "   - ScatterMeanRelevanceBackward at 0x55aaeddd9658:\n",
      "    - AccumulateGrad at 0x7fd02d4c90f0:variable at 0x7fd02d494ab0\n",
      "    - None\n",
      "   - AccumulateGrad at 0x7fd02d4c9828:variable at 0x7fd02d4a6b40\n",
      " - LinearEpsilonRelevanceBackward at 0x55aaedddde08:\n",
      "  - ScatterMeanRelevanceBackward at 0x55aaedde3948:\n",
      "   - AccumulateGrad at 0x7fd02d4c9cc0:variable at 0x7fd02d494af8\n",
      "   - None\n",
      "  - AccumulateGrad at 0x7fd02d4c9828:variable at 0x7fd02d4a6a68\n",
      "- LinearEpsilonRelevanceBackward at 0x55aaecf28ca8:\n",
      " - AccumulateGrad at 0x7fd02d4c9d30:variable at 0x7fd02d494b40\n",
      " - AccumulateGrad at 0x7fd02d4c9828:variable at 0x7fd02d4bf630\n"
     ]
    }
   ],
   "source": [
    "net = GlobalLinearRelevance(1, node_features=5, edge_features=3, global_features=7, bias=False, aggregation='mean')\n",
    "out = net(graphs)\n",
    "print(computational_graph(out.global_features.grad_fn))"
   ]
  },
  {
   "cell_type": "code",
   "execution_count": 40,
   "metadata": {},
   "outputs": [
    {
     "name": "stdout",
     "output_type": "stream",
     "text": [
      "Relevance global out 1.0\n",
      "[[ 1.00]]\n",
      "\n",
      "Relevance edges in 0.6989871263504028\n",
      "[[ 0.29 -0.02  0.15]\n",
      " [ 0.15 -0.22  0.52]\n",
      " [ 0.01 -0.34  0.15]]\n",
      "\n",
      "Relevance nodes in -0.8370841145515442\n",
      "[[-0.17  0.06 -0.03 -0.07 -0.18]\n",
      " [-0.06  0.18 -0.03 -0.09 -0.16]\n",
      " [-0.00  0.12 -0.05 -0.16 -0.04]\n",
      " [-0.17  0.23 -0.04 -0.14 -0.02]]\n",
      "\n",
      "Relevance globals in 1.1380969285964966\n",
      "[[-0.18  0.53  0.28  0.14  0.35 -0.07  0.09]]\n",
      "\n",
      "Relevance input total 0.9999999403953552\n"
     ]
    }
   ],
   "source": [
    "out = net(graphs)\n",
    "rel_out = torch.ones_like(out.global_features) * (out.global_features != 0).float()\n",
    "print('Relevance global out', rel_out.sum().item())\n",
    "print(rel_out.numpy())\n",
    "\n",
    "graphs.zero_grad_()\n",
    "out.global_features.backward(rel_out)\n",
    "rel_in = 0\n",
    "if graphs.edge_features.grad is not None:\n",
    "    rel_in += graphs.edge_features.grad.sum().item()\n",
    "    print('\\nRelevance edges in', graphs.edge_features.grad.sum().item())\n",
    "    print(graphs.edge_features.grad.numpy())\n",
    "if graphs.node_features.grad is not None:\n",
    "    rel_in += graphs.node_features.grad.sum().item()\n",
    "    print('\\nRelevance nodes in', graphs.node_features.grad.sum().item())\n",
    "    print(graphs.node_features.grad.numpy())\n",
    "if graphs.global_features.grad is not None:\n",
    "    rel_in += graphs.global_features.grad.sum().item()\n",
    "    print('\\nRelevance globals in', graphs.global_features.grad.sum().item())\n",
    "    print(graphs.global_features.grad.numpy())\n",
    "print('\\nRelevance input total', rel_in)"
   ]
  },
  {
   "cell_type": "code",
   "execution_count": 41,
   "metadata": {},
   "outputs": [
    {
     "name": "stdout",
     "output_type": "stream",
     "text": [
      "AddRelevanceBackward at 0x55aaeddf6c58:\n",
      "- AddRelevanceBackward at 0x55aaeddd2848:\n",
      " - AddRelevanceBackward at 0x55aaeddcad18:\n",
      "  - AddRelevanceBackward at 0x55aaeddd41c8:\n",
      "   - None\n",
      "   - LinearEpsilonRelevanceBackward at 0x55aaedde3948:\n",
      "    - ScatterAddRelevanceBackward at 0x55aaedddde08:\n",
      "     - AccumulateGrad at 0x7fd02c47a320:variable at 0x7fd02d494ab0\n",
      "     - None\n",
      "     - None\n",
      "    - AccumulateGrad at 0x7fd02c47a0f0:variable at 0x7fd02d4b3af8\n",
      "  - LinearEpsilonRelevanceBackward at 0x55aaeddd9658:\n",
      "   - ScatterAddRelevanceBackward at 0x55aaedde0918:\n",
      "    - AccumulateGrad at 0x7fd02c47a2e8:variable at 0x7fd02d494af8\n",
      "    - None\n",
      "    - None\n",
      "   - AccumulateGrad at 0x7fd02c47a0f0:variable at 0x7fd02d4b3a20\n",
      " - LinearEpsilonRelevanceBackward at 0x55aaeddf4b28:\n",
      "  - AccumulateGrad at 0x7fd02c47a278:variable at 0x7fd02d494b40\n",
      "  - AccumulateGrad at 0x7fd02c47a0f0:variable at 0x7fd02d4b3ea0\n",
      "- AccumulateGrad at 0x7fd02c47a0b8:variable at 0x7fd02d4b3120\n"
     ]
    }
   ],
   "source": [
    "net = GlobalLinearRelevance(1, node_features=5, edge_features=3, global_features=7, bias=True, aggregation='sum')\n",
    "out = net(graphs)\n",
    "print(computational_graph(out.global_features.grad_fn))"
   ]
  },
  {
   "cell_type": "code",
   "execution_count": 42,
   "metadata": {},
   "outputs": [
    {
     "name": "stdout",
     "output_type": "stream",
     "text": [
      "Relevance global out 1.0\n",
      "[[ 1.00]]\n",
      "\n",
      "Relevance edges in 0.6768062114715576\n",
      "[[ 0.32  0.00  0.01]\n",
      " [ 0.17  0.04  0.05]\n",
      " [ 0.01  0.06  0.01]]\n",
      "\n",
      "Relevance nodes in 0.10417277365922928\n",
      "[[ 0.28 -0.05 -0.01 -0.11  0.32]\n",
      " [ 0.11 -0.15 -0.01 -0.15  0.28]\n",
      " [ 0.00 -0.10 -0.02 -0.27  0.08]\n",
      " [ 0.28 -0.19 -0.01 -0.23  0.04]]\n",
      "\n",
      "Relevance globals in -0.27423951029777527\n",
      "[[-0.03  0.04 -0.02 -0.05  0.04 -0.21 -0.04]]\n",
      "\n",
      "Relevance input total 0.5067394748330116\n"
     ]
    }
   ],
   "source": [
    "out = net(graphs)\n",
    "rel_out = torch.ones_like(out.global_features) * (out.global_features != 0).float()\n",
    "print('Relevance global out', rel_out.sum().item())\n",
    "print(rel_out.numpy())\n",
    "\n",
    "graphs.zero_grad_()\n",
    "out.global_features.backward(rel_out)\n",
    "rel_in = 0\n",
    "if graphs.edge_features.grad is not None:\n",
    "    rel_in += graphs.edge_features.grad.sum().item()\n",
    "    print('\\nRelevance edges in', graphs.edge_features.grad.sum().item())\n",
    "    print(graphs.edge_features.grad.numpy())\n",
    "if graphs.node_features.grad is not None:\n",
    "    rel_in += graphs.node_features.grad.sum().item()\n",
    "    print('\\nRelevance nodes in', graphs.node_features.grad.sum().item())\n",
    "    print(graphs.node_features.grad.numpy())\n",
    "if graphs.global_features.grad is not None:\n",
    "    rel_in += graphs.global_features.grad.sum().item()\n",
    "    print('\\nRelevance globals in', graphs.global_features.grad.sum().item())\n",
    "    print(graphs.global_features.grad.numpy())\n",
    "print('\\nRelevance input total', rel_in)"
   ]
  },
  {
   "cell_type": "markdown",
   "metadata": {},
   "source": [
    "## Sequential"
   ]
  },
  {
   "cell_type": "code",
   "execution_count": 43,
   "metadata": {},
   "outputs": [],
   "source": [
    "class NodeReLURelevance(tg.NodeFunction):\n",
    "    def __init__(self):\n",
    "        super(tg.NodeFunction, self).__init__(lrp.relu)\n",
    "\n",
    "\n",
    "class EdgeReLURelevance(tg.EdgeFunction):\n",
    "    def __init__(self):\n",
    "        super(tg.EdgeFunction, self).__init__(lrp.relu)\n",
    "\n",
    "\n",
    "class GlobalReLURelevance(tg.GlobalFunction):\n",
    "    def __init__(self):\n",
    "        super(tg.GlobalFunction, self).__init__(lrp.relu)\n",
    "\n",
    "class ComplexGN(nn.Module):\n",
    "    def __init__(self):\n",
    "        super().__init__()\n",
    "        self.encoder = nn.Sequential(OrderedDict({\n",
    "            'edge': EdgeLinearRelevance(8, edge_features=3, bias=False),\n",
    "            'edge_relu': EdgeReLURelevance(),\n",
    "            'node': NodeLinearRelevance(8, node_features=5, bias=False),\n",
    "            'node_relu': NodeReLURelevance(),\n",
    "            'global': GlobalLinearRelevance(8, global_features=7, bias=False),\n",
    "            'global_relu': GlobalReLURelevance(),\n",
    "        }))\n",
    "        self.hidden = nn.Sequential(OrderedDict({\n",
    "            'edge': EdgeLinearRelevance(8, edge_features=8, sender_features=8, global_features=8, bias=False),\n",
    "            'edge_relu': EdgeReLURelevance(),\n",
    "            'node': NodeLinearRelevance(8, node_features=8, incoming_features=8, global_features=8, aggregation='max', bias=False),\n",
    "            'node_relu': NodeReLURelevance(),\n",
    "            'global': GlobalLinearRelevance(8, node_features=8, edge_features=8, aggregation='sum', bias=False),\n",
    "            'global_relu': GlobalReLURelevance(),\n",
    "        }))\n",
    "        self.decoder = nn.Sequential(OrderedDict({\n",
    "            'edge': EdgeLinearRelevance(1, edge_features=8, bias=False),\n",
    "            'node': NodeLinearRelevance(1, node_features=8, bias=False),\n",
    "            'global': GlobalLinearRelevance(1, global_features=8, bias=False),\n",
    "        }))\n",
    "        \n",
    "    def forward(self, graphs):\n",
    "        graphs = self.encoder(graphs)\n",
    "        for l in range(3):\n",
    "            graphs = self.hidden(graphs)\n",
    "        graphs = self.decoder(graphs)\n",
    "        return graphs\n",
    "    \n",
    "net = ComplexGN()"
   ]
  },
  {
   "cell_type": "code",
   "execution_count": 44,
   "metadata": {},
   "outputs": [
    {
     "name": "stdout",
     "output_type": "stream",
     "text": [
      "Relevance global out 1.0\n",
      "[[ 1.00]]\n",
      "\n",
      "Relevance edges in 0.31765320897102356\n",
      "[[-0.03 -0.03 -0.25]\n",
      " [-0.18 -0.13  1.26]\n",
      " [-0.01 -0.26 -0.06]]\n",
      "\n",
      "Relevance nodes in 4.042593955993652\n",
      "[[-1.56  0.52  0.34  0.59  0.12]\n",
      " [ 0.13 -1.00 -0.06 -1.26  0.07]\n",
      " [-0.03  0.89  1.23  0.38  0.25]\n",
      " [-0.30  2.48  0.31  1.00 -0.07]]\n",
      "\n",
      "Relevance globals in -3.3602473735809326\n",
      "[[ 0.33 -1.83  0.10  2.82 -1.53 -3.20 -0.05]]\n",
      "\n",
      "Relevance input total 0.9999997913837433\n"
     ]
    }
   ],
   "source": [
    "out = net(graphs)\n",
    "rel_out = torch.ones_like(out.global_features) * (out.global_features != 0).float()\n",
    "print('Relevance global out', rel_out.sum().item())\n",
    "print(rel_out.numpy())\n",
    "\n",
    "graphs.zero_grad_()\n",
    "out.global_features.backward(rel_out)\n",
    "rel_in = 0\n",
    "if graphs.edge_features.grad is not None:\n",
    "    rel_in += graphs.edge_features.grad.sum().item()\n",
    "    print('\\nRelevance edges in', graphs.edge_features.grad.sum().item())\n",
    "    print(graphs.edge_features.grad.numpy())\n",
    "if graphs.node_features.grad is not None:\n",
    "    rel_in += graphs.node_features.grad.sum().item()\n",
    "    print('\\nRelevance nodes in', graphs.node_features.grad.sum().item())\n",
    "    print(graphs.node_features.grad.numpy())\n",
    "if graphs.global_features.grad is not None:\n",
    "    rel_in += graphs.global_features.grad.sum().item()\n",
    "    print('\\nRelevance globals in', graphs.global_features.grad.sum().item())\n",
    "    print(graphs.global_features.grad.numpy())\n",
    "print('\\nRelevance input total', rel_in)"
   ]
  }
 ],
 "metadata": {
  "kernelspec": {
   "display_name": "Python [conda env:gn-exp]",
   "language": "python",
   "name": "conda-env-gn-exp-py"
  },
  "language_info": {
   "codemirror_mode": {
    "name": "ipython",
    "version": 3
   },
   "file_extension": ".py",
   "mimetype": "text/x-python",
   "name": "python",
   "nbconvert_exporter": "python",
   "pygments_lexer": "ipython3",
   "version": "3.7.3"
  }
 },
 "nbformat": 4,
 "nbformat_minor": 2
}
