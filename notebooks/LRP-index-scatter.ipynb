{
 "cells": [
  {
   "cell_type": "markdown",
   "metadata": {},
   "source": [
    "# LRP for Index and Scatter Operations"
   ]
  },
  {
   "cell_type": "code",
   "execution_count": 1,
   "metadata": {},
   "outputs": [],
   "source": [
    "from ipywidgets import Output, HBox, VBox\n",
    "from IPython.display import HTML\n",
    "import numpy as np\n",
    "import torch\n",
    "import torch_scatter\n",
    "import warnings"
   ]
  },
  {
   "cell_type": "code",
   "execution_count": 12,
   "metadata": {},
   "outputs": [],
   "source": [
    "class RelevanceFunction(object):\n",
    "    def __init__(self):\n",
    "        self.saved_stuff = None"
   ]
  },
  {
   "cell_type": "code",
   "execution_count": 13,
   "metadata": {},
   "outputs": [],
   "source": [
    "def table(x):\n",
    "    return f'<table>{x}</table>'\n",
    "def tr(x):\n",
    "    return f'<tr>{x}</tr>'\n",
    "def td(x):\n",
    "    return f'<td style=\"text-align: left; vertical-align: middle;\">{x}</td>'\n",
    "def html_repr(x):\n",
    "    if isinstance(x, torch.Tensor):\n",
    "        x = x.numpy()\n",
    "    if isinstance(x, np.ndarray):\n",
    "        if x.size == 1:\n",
    "            x = x.item()\n",
    "        else:\n",
    "            x = x.reshape(-1, 1)\n",
    "    return '<pre>' + str(x).replace('\\n', '<br/>') + '</pre>'\n",
    "def make_table(items):\n",
    "    res = ''\n",
    "    for row in items:\n",
    "        row_html = ''\n",
    "        for cell in row:\n",
    "            row_html += td(html_repr(cell))\n",
    "        res += tr(row_html)\n",
    "    return HTML(table(res))"
   ]
  },
  {
   "cell_type": "code",
   "execution_count": 14,
   "metadata": {},
   "outputs": [],
   "source": [
    "import sys\n",
    "\n",
    "def simple_format(message, category, filename, lineno, line=None):\n",
    "    return f'{category.__name__}: {message}'\n",
    "warnings.formatwarning = simple_format"
   ]
  },
  {
   "cell_type": "markdown",
   "metadata": {},
   "source": [
    "## Index select"
   ]
  },
  {
   "cell_type": "code",
   "execution_count": 15,
   "metadata": {},
   "outputs": [],
   "source": [
    "def index_select(input, idx):\n",
    "    out = torch.empty((idx.shape[0], *input.shape[1:]))\n",
    "    for input_idx, output_idx in zip(idx, range(len(idx))):\n",
    "        out[output_idx] = input[input_idx]\n",
    "    return out"
   ]
  },
  {
   "cell_type": "code",
   "execution_count": 16,
   "metadata": {},
   "outputs": [
    {
     "data": {
      "text/html": [
       "<table><tr><td style=\"text-align: left; vertical-align: middle;\"><pre>input</pre></td><td style=\"text-align: left; vertical-align: middle;\"><pre>idx</pre></td><td style=\"text-align: left; vertical-align: middle;\"><pre>output</pre></td></tr><tr><td style=\"text-align: left; vertical-align: middle;\"><pre>[[0.7]<br/> [0.2]<br/> [0. ]<br/> [0.5]<br/> [0.3]<br/> [0.1]]</pre></td><td style=\"text-align: left; vertical-align: middle;\"><pre>[[0]<br/> [2]<br/> [5]<br/> [5]]</pre></td><td style=\"text-align: left; vertical-align: middle;\"><pre>[[0.7]<br/> [0. ]<br/> [0.1]<br/> [0.1]]</pre></td></tr></table>"
      ],
      "text/plain": [
       "<IPython.core.display.HTML object>"
      ]
     },
     "execution_count": 16,
     "metadata": {},
     "output_type": "execute_result"
    }
   ],
   "source": [
    "input = torch.tensor([.7, .2, .0, .5, .3, .1])\n",
    "idx = torch.tensor([0, 2, 5, 5])\n",
    "output = index_select(input, idx=idx)\n",
    "\n",
    "make_table([\n",
    "    ['input', 'idx', 'output'],\n",
    "    [input, idx, output]\n",
    "])"
   ]
  },
  {
   "cell_type": "code",
   "execution_count": 17,
   "metadata": {},
   "outputs": [],
   "source": [
    "def index_select_relevance(input, idx, rel_out):\n",
    "    rel_in = torch.zeros(input.shape)\n",
    "    for idx_input, idx_output in zip(idx, range(len(rel_out))):\n",
    "        rel_in[idx_input] += rel_out[idx_output]\n",
    "    return rel_in"
   ]
  },
  {
   "cell_type": "code",
   "execution_count": 18,
   "metadata": {},
   "outputs": [
    {
     "data": {
      "text/html": [
       "<table><tr><td style=\"text-align: left; vertical-align: middle;\"><pre>input</pre></td><td style=\"text-align: left; vertical-align: middle;\"><pre>idx</pre></td><td style=\"text-align: left; vertical-align: middle;\"><pre>output</pre></td><td style=\"text-align: left; vertical-align: middle;\"><pre>rel_out</pre></td><td style=\"text-align: left; vertical-align: middle;\"><pre>idx</pre></td><td style=\"text-align: left; vertical-align: middle;\"><pre>rel_in</pre></td></tr><tr><td style=\"text-align: left; vertical-align: middle;\"><pre>[[0.7]<br/> [0.2]<br/> [0. ]<br/> [0.5]<br/> [0.3]<br/> [0.1]]</pre></td><td style=\"text-align: left; vertical-align: middle;\"><pre>[[0]<br/> [2]<br/> [5]<br/> [5]]</pre></td><td style=\"text-align: left; vertical-align: middle;\"><pre>[[0.7]<br/> [0. ]<br/> [0.1]<br/> [0.1]]</pre></td><td style=\"text-align: left; vertical-align: middle;\"><pre>[[5.]<br/> [0.]<br/> [2.]<br/> [1.]]</pre></td><td style=\"text-align: left; vertical-align: middle;\"><pre>[[0]<br/> [2]<br/> [5]<br/> [5]]</pre></td><td style=\"text-align: left; vertical-align: middle;\"><pre>[[5.]<br/> [0.]<br/> [0.]<br/> [0.]<br/> [0.]<br/> [3.]]</pre></td></tr><tr><td style=\"text-align: left; vertical-align: middle;\"><pre>Σ</pre></td><td style=\"text-align: left; vertical-align: middle;\"><pre></pre></td><td style=\"text-align: left; vertical-align: middle;\"><pre></pre></td><td style=\"text-align: left; vertical-align: middle;\"><pre>8.0</pre></td><td style=\"text-align: left; vertical-align: middle;\"><pre></pre></td><td style=\"text-align: left; vertical-align: middle;\"><pre>8.0</pre></td></tr></table>"
      ],
      "text/plain": [
       "<IPython.core.display.HTML object>"
      ]
     },
     "execution_count": 18,
     "metadata": {},
     "output_type": "execute_result"
    }
   ],
   "source": [
    "input = torch.tensor([.7, .2, .0, .5, .3, .1])\n",
    "idx = torch.tensor([0, 2, 5, 5])\n",
    "rel_out = torch.tensor([5, 0, 2, 1], dtype=torch.float)\n",
    "rel_in = index_select_relevance(input, idx, rel_out)\n",
    "\n",
    "make_table([\n",
    "    ['input', 'idx', 'output', 'rel_out', 'idx', 'rel_in'],\n",
    "    [input,    idx,   output,   rel_out,   idx,   rel_in],\n",
    "    ['Σ',        '',      '',   rel_out.sum(), '', rel_in.sum()],\n",
    "])"
   ]
  },
  {
   "cell_type": "code",
   "execution_count": 26,
   "metadata": {},
   "outputs": [],
   "source": [
    "class IndexSelect(RelevanceFunction):\n",
    "    def forward(self, input, idx, dim):\n",
    "        self.saved_stuff = idx, dim, input.shape[dim]\n",
    "        return torch.index_select(input, dim=dim, index=idx)\n",
    "    def relevance(self, rel_out):\n",
    "        idx, dim, input_dim = self.saved_stuff\n",
    "        return torch_scatter.scatter_add(rel_out, idx, dim=dim, dim_size=input_dim)"
   ]
  },
  {
   "cell_type": "code",
   "execution_count": 27,
   "metadata": {},
   "outputs": [
    {
     "data": {
      "text/html": [
       "<table><tr><td style=\"text-align: left; vertical-align: middle;\"><pre>input</pre></td><td style=\"text-align: left; vertical-align: middle;\"><pre>idx</pre></td><td style=\"text-align: left; vertical-align: middle;\"><pre>output</pre></td><td style=\"text-align: left; vertical-align: middle;\"><pre>rel_out</pre></td><td style=\"text-align: left; vertical-align: middle;\"><pre>idx</pre></td><td style=\"text-align: left; vertical-align: middle;\"><pre>rel_in</pre></td></tr><tr><td style=\"text-align: left; vertical-align: middle;\"><pre>[[0.7]<br/> [0.2]<br/> [0. ]<br/> [0.5]<br/> [0.3]<br/> [0.1]]</pre></td><td style=\"text-align: left; vertical-align: middle;\"><pre>[[0]<br/> [2]<br/> [5]<br/> [5]]</pre></td><td style=\"text-align: left; vertical-align: middle;\"><pre>[[0.7]<br/> [0. ]<br/> [0.1]<br/> [0.1]]</pre></td><td style=\"text-align: left; vertical-align: middle;\"><pre>[[5.]<br/> [0.]<br/> [2.]<br/> [1.]]</pre></td><td style=\"text-align: left; vertical-align: middle;\"><pre>[[0]<br/> [2]<br/> [5]<br/> [5]]</pre></td><td style=\"text-align: left; vertical-align: middle;\"><pre>[[5.]<br/> [0.]<br/> [0.]<br/> [0.]<br/> [0.]<br/> [3.]]</pre></td></tr><tr><td style=\"text-align: left; vertical-align: middle;\"><pre>Σ</pre></td><td style=\"text-align: left; vertical-align: middle;\"><pre></pre></td><td style=\"text-align: left; vertical-align: middle;\"><pre></pre></td><td style=\"text-align: left; vertical-align: middle;\"><pre>8.0</pre></td><td style=\"text-align: left; vertical-align: middle;\"><pre></pre></td><td style=\"text-align: left; vertical-align: middle;\"><pre>8.0</pre></td></tr></table>"
      ],
      "text/plain": [
       "<IPython.core.display.HTML object>"
      ]
     },
     "execution_count": 27,
     "metadata": {},
     "output_type": "execute_result"
    }
   ],
   "source": [
    "op = IndexSelect()\n",
    "input = torch.tensor([.7, .2, .0, .5, .3, .1])\n",
    "idx = torch.tensor([0, 2, 5, 5])\n",
    "output = op.forward(input, idx, dim=0)\n",
    "rel_out = torch.tensor([5, 0, 2, 1], dtype=torch.float)\n",
    "rel_in = op.relevance(rel_out)\n",
    "make_table([\n",
    "    ['input', 'idx', 'output', 'rel_out', 'idx', 'rel_in'],\n",
    "    [input,    idx,   output,   rel_out,   idx,   rel_in],\n",
    "    ['Σ',        '',      '',   rel_out.sum(), '', rel_in.sum()],\n",
    "])"
   ]
  },
  {
   "cell_type": "markdown",
   "metadata": {},
   "source": [
    "## Sum Pooling"
   ]
  },
  {
   "cell_type": "code",
   "execution_count": 28,
   "metadata": {},
   "outputs": [],
   "source": [
    "def sum_pooling(input):\n",
    "    return input.sum()\n",
    "\n",
    "def sum_pooling_relevance(input, output, rel_out):\n",
    "    return rel_out * input / output"
   ]
  },
  {
   "cell_type": "code",
   "execution_count": 29,
   "metadata": {},
   "outputs": [
    {
     "data": {
      "text/html": [
       "<table><tr><td style=\"text-align: left; vertical-align: middle;\"><pre>input</pre></td><td style=\"text-align: left; vertical-align: middle;\"><pre>output</pre></td><td style=\"text-align: left; vertical-align: middle;\"><pre>rel_out</pre></td><td style=\"text-align: left; vertical-align: middle;\"><pre>rel_in</pre></td></tr><tr><td style=\"text-align: left; vertical-align: middle;\"><pre>[[0.7]<br/> [0.2]<br/> [0. ]<br/> [0.5]<br/> [0.5]<br/> [0.1]]</pre></td><td style=\"text-align: left; vertical-align: middle;\"><pre>2.0</pre></td><td style=\"text-align: left; vertical-align: middle;\"><pre>10.0</pre></td><td style=\"text-align: left; vertical-align: middle;\"><pre>[[3.5]<br/> [1. ]<br/> [0. ]<br/> [2.5]<br/> [2.5]<br/> [0.5]]</pre></td></tr><tr><td style=\"text-align: left; vertical-align: middle;\"><pre>Σ</pre></td><td style=\"text-align: left; vertical-align: middle;\"><pre></pre></td><td style=\"text-align: left; vertical-align: middle;\"><pre>10.0</pre></td><td style=\"text-align: left; vertical-align: middle;\"><pre>10.0</pre></td></tr></table>"
      ],
      "text/plain": [
       "<IPython.core.display.HTML object>"
      ]
     },
     "execution_count": 29,
     "metadata": {},
     "output_type": "execute_result"
    }
   ],
   "source": [
    "input = torch.tensor([.7, .2, .0, .5, .5, .1])\n",
    "output = sum_pooling(input)\n",
    "rel_out = 10.0\n",
    "rel_in = sum_pooling_relevance(input, output, rel_out)\n",
    "\n",
    "make_table([\n",
    "    ['input', 'output', 'rel_out', 'rel_in'],\n",
    "    [input,    output,   rel_out,   rel_in],\n",
    "    ['Σ',          '',   rel_out,   rel_in.sum()],\n",
    "])"
   ]
  },
  {
   "cell_type": "code",
   "execution_count": 34,
   "metadata": {},
   "outputs": [],
   "source": [
    "class SumPooling(RelevanceFunction):\n",
    "    def forward(self, input):\n",
    "        output = input.sum()\n",
    "        self.saved_stuff = input, output\n",
    "        return output\n",
    "    def relevance(self, rel_out):\n",
    "        input, output = self.saved_stuff\n",
    "        if output == 0:\n",
    "            warnings.warn('Relevance that is propagated back through an output of 0 will be lost')\n",
    "            return torch.zeros_like(input)\n",
    "        return rel_out * input / output"
   ]
  },
  {
   "cell_type": "code",
   "execution_count": 36,
   "metadata": {},
   "outputs": [
    {
     "data": {
      "text/html": [
       "<table><tr><td style=\"text-align: left; vertical-align: middle;\"><pre>input</pre></td><td style=\"text-align: left; vertical-align: middle;\"><pre>output</pre></td><td style=\"text-align: left; vertical-align: middle;\"><pre>rel_out</pre></td><td style=\"text-align: left; vertical-align: middle;\"><pre>rel_in</pre></td></tr><tr><td style=\"text-align: left; vertical-align: middle;\"><pre>[[0.7]<br/> [0.2]<br/> [0. ]<br/> [0.5]<br/> [0.5]<br/> [0.1]]</pre></td><td style=\"text-align: left; vertical-align: middle;\"><pre>2.0</pre></td><td style=\"text-align: left; vertical-align: middle;\"><pre>10.0</pre></td><td style=\"text-align: left; vertical-align: middle;\"><pre>[[3.5]<br/> [1. ]<br/> [0. ]<br/> [2.5]<br/> [2.5]<br/> [0.5]]</pre></td></tr><tr><td style=\"text-align: left; vertical-align: middle;\"><pre>Σ</pre></td><td style=\"text-align: left; vertical-align: middle;\"><pre></pre></td><td style=\"text-align: left; vertical-align: middle;\"><pre>10.0</pre></td><td style=\"text-align: left; vertical-align: middle;\"><pre>10.0</pre></td></tr></table>"
      ],
      "text/plain": [
       "<IPython.core.display.HTML object>"
      ]
     },
     "execution_count": 36,
     "metadata": {},
     "output_type": "execute_result"
    }
   ],
   "source": [
    "op = SumPooling()\n",
    "input = torch.tensor([.7, .2, .0, .5, .5, .1])\n",
    "output = op.forward(input)\n",
    "rel_out = 10.0\n",
    "rel_in = op.relevance(rel_out)\n",
    "make_table([\n",
    "    ['input', 'output', 'rel_out', 'rel_in'],\n",
    "    [input,    output,   rel_out,   rel_in],\n",
    "    ['Σ',          '',   rel_out,   rel_in.sum()],\n",
    "])"
   ]
  },
  {
   "cell_type": "code",
   "execution_count": 39,
   "metadata": {},
   "outputs": [
    {
     "name": "stderr",
     "output_type": "stream",
     "text": [
      "UserWarning: Relevance that is propagated back through an output of 0 will be lost"
     ]
    },
    {
     "data": {
      "text/html": [
       "<table><tr><td style=\"text-align: left; vertical-align: middle;\"><pre>input</pre></td><td style=\"text-align: left; vertical-align: middle;\"><pre>output</pre></td><td style=\"text-align: left; vertical-align: middle;\"><pre>rel_out</pre></td><td style=\"text-align: left; vertical-align: middle;\"><pre>rel_in</pre></td></tr><tr><td style=\"text-align: left; vertical-align: middle;\"><pre>[[ 0.7]<br/> [ 0.2]<br/> [ 0.1]<br/> [-0.7]<br/> [-0.3]<br/> [ 0. ]]</pre></td><td style=\"text-align: left; vertical-align: middle;\"><pre>0.0</pre></td><td style=\"text-align: left; vertical-align: middle;\"><pre>10.0</pre></td><td style=\"text-align: left; vertical-align: middle;\"><pre>[[0.]<br/> [0.]<br/> [0.]<br/> [0.]<br/> [0.]<br/> [0.]]</pre></td></tr><tr><td style=\"text-align: left; vertical-align: middle;\"><pre>Σ</pre></td><td style=\"text-align: left; vertical-align: middle;\"><pre></pre></td><td style=\"text-align: left; vertical-align: middle;\"><pre>10.0</pre></td><td style=\"text-align: left; vertical-align: middle;\"><pre>0.0</pre></td></tr></table>"
      ],
      "text/plain": [
       "<IPython.core.display.HTML object>"
      ]
     },
     "execution_count": 39,
     "metadata": {},
     "output_type": "execute_result"
    }
   ],
   "source": [
    "op = SumPooling()\n",
    "input = torch.tensor([.7, .2, .1, -.7, -.3, .0])\n",
    "output = op.forward(input)\n",
    "rel_out = 10.0\n",
    "rel_in = op.relevance(rel_out)\n",
    "make_table([\n",
    "    ['input', 'output', 'rel_out', 'rel_in'],\n",
    "    [input,    output,   rel_out,   rel_in],\n",
    "    ['Σ',          '',   rel_out,   rel_in.sum()],\n",
    "])"
   ]
  },
  {
   "cell_type": "markdown",
   "metadata": {},
   "source": [
    "## Scatter Add"
   ]
  },
  {
   "cell_type": "code",
   "execution_count": 40,
   "metadata": {},
   "outputs": [],
   "source": [
    "def scatter_add(input, idx, size):\n",
    "    output = torch.zeros(size)\n",
    "    for idx_input, idx_output in zip(range(len(input)), idx):\n",
    "        output[idx_output] += input[idx_input]\n",
    "    return output"
   ]
  },
  {
   "cell_type": "code",
   "execution_count": 41,
   "metadata": {},
   "outputs": [
    {
     "data": {
      "text/html": [
       "<table><tr><td style=\"text-align: left; vertical-align: middle;\"><pre>input</pre></td><td style=\"text-align: left; vertical-align: middle;\"><pre>idx</pre></td><td style=\"text-align: left; vertical-align: middle;\"><pre>output</pre></td></tr><tr><td style=\"text-align: left; vertical-align: middle;\"><pre>[[0.5]<br/> [0.2]<br/> [0. ]<br/> [0.5]<br/> [0.5]<br/> [0.1]]</pre></td><td style=\"text-align: left; vertical-align: middle;\"><pre>[[0]<br/> [0]<br/> [1]<br/> [1]<br/> [1]<br/> [3]]</pre></td><td style=\"text-align: left; vertical-align: middle;\"><pre>[[0.7]<br/> [1. ]<br/> [0. ]<br/> [0.1]]</pre></td></tr></table>"
      ],
      "text/plain": [
       "<IPython.core.display.HTML object>"
      ]
     },
     "execution_count": 41,
     "metadata": {},
     "output_type": "execute_result"
    }
   ],
   "source": [
    "input = torch.tensor([.5, .2, .0, .5, .5, .1])\n",
    "idx = torch.tensor([0, 0, 1, 1, 1, 3])\n",
    "output = scatter_add(input, idx, 4)\n",
    "\n",
    "make_table([\n",
    "    ['input', 'idx', 'output'],\n",
    "    [input,    idx,   output]\n",
    "])"
   ]
  },
  {
   "cell_type": "code",
   "execution_count": 42,
   "metadata": {},
   "outputs": [],
   "source": [
    "def scatter_add_relevance(input, idx, output, rel_out):\n",
    "    rel_in = torch.zeros_like(input)\n",
    "    for idx_input, idx_output in zip(range(len(input)), idx):\n",
    "        rel_in[idx_input] = rel_out[idx_output] * input[idx_input] / output[idx_output]\n",
    "    return rel_in"
   ]
  },
  {
   "cell_type": "code",
   "execution_count": 43,
   "metadata": {},
   "outputs": [
    {
     "data": {
      "text/html": [
       "<table><tr><td style=\"text-align: left; vertical-align: middle;\"><pre>input</pre></td><td style=\"text-align: left; vertical-align: middle;\"><pre>idx</pre></td><td style=\"text-align: left; vertical-align: middle;\"><pre>output</pre></td><td style=\"text-align: left; vertical-align: middle;\"><pre>rel_out</pre></td><td style=\"text-align: left; vertical-align: middle;\"><pre>idx</pre></td><td style=\"text-align: left; vertical-align: middle;\"><pre>rel_in</pre></td></tr><tr><td style=\"text-align: left; vertical-align: middle;\"><pre>[[0.5]<br/> [0.2]<br/> [0. ]<br/> [0.5]<br/> [0.5]<br/> [0.1]]</pre></td><td style=\"text-align: left; vertical-align: middle;\"><pre>[[0]<br/> [0]<br/> [1]<br/> [1]<br/> [1]<br/> [3]]</pre></td><td style=\"text-align: left; vertical-align: middle;\"><pre>[[0.7]<br/> [1. ]<br/> [0. ]<br/> [0.1]]</pre></td><td style=\"text-align: left; vertical-align: middle;\"><pre>[[5.]<br/> [3.]<br/> [0.]<br/> [1.]]</pre></td><td style=\"text-align: left; vertical-align: middle;\"><pre>[[0]<br/> [0]<br/> [1]<br/> [1]<br/> [1]<br/> [3]]</pre></td><td style=\"text-align: left; vertical-align: middle;\"><pre>[[3.57]<br/> [1.43]<br/> [0.  ]<br/> [1.5 ]<br/> [1.5 ]<br/> [1.  ]]</pre></td></tr><tr><td style=\"text-align: left; vertical-align: middle;\"><pre>Σ</pre></td><td style=\"text-align: left; vertical-align: middle;\"><pre></pre></td><td style=\"text-align: left; vertical-align: middle;\"><pre></pre></td><td style=\"text-align: left; vertical-align: middle;\"><pre>9.0</pre></td><td style=\"text-align: left; vertical-align: middle;\"><pre></pre></td><td style=\"text-align: left; vertical-align: middle;\"><pre>9.0</pre></td></tr></table>"
      ],
      "text/plain": [
       "<IPython.core.display.HTML object>"
      ]
     },
     "execution_count": 43,
     "metadata": {},
     "output_type": "execute_result"
    }
   ],
   "source": [
    "input = torch.tensor([.5, .2, .0, .5, .5, .1])\n",
    "idx = torch.tensor([0, 0, 1, 1, 1, 3])\n",
    "rel_out = torch.tensor([5, 3, 0, 1], dtype=torch.float)\n",
    "rel_in = scatter_add_relevance(input, idx, output, rel_out)\n",
    "\n",
    "make_table([\n",
    "    ['input', 'idx', 'output', 'rel_out', 'idx', 'rel_in'],\n",
    "    [input,    idx,   output,   rel_out,   idx,   rel_in.numpy().round(2)],\n",
    "    ['Σ',        '',      '',   rel_out.sum(), '', rel_in.sum()],\n",
    "])"
   ]
  },
  {
   "cell_type": "markdown",
   "metadata": {},
   "source": [
    "Corner case: if an output neuron with 0 activation (either because no index was pointing at it or because all of its inputs were 0) receives relevance, that relevance is _lost_."
   ]
  },
  {
   "cell_type": "code",
   "execution_count": 44,
   "metadata": {},
   "outputs": [
    {
     "data": {
      "text/html": [
       "<table><tr><td style=\"text-align: left; vertical-align: middle;\"><pre>input</pre></td><td style=\"text-align: left; vertical-align: middle;\"><pre>idx</pre></td><td style=\"text-align: left; vertical-align: middle;\"><pre>output</pre></td><td style=\"text-align: left; vertical-align: middle;\"><pre>rel_out</pre></td><td style=\"text-align: left; vertical-align: middle;\"><pre>idx</pre></td><td style=\"text-align: left; vertical-align: middle;\"><pre>rel_in</pre></td></tr><tr><td style=\"text-align: left; vertical-align: middle;\"><pre>[[0.5]<br/> [0.2]<br/> [0. ]<br/> [0.5]<br/> [0.5]<br/> [0.1]]</pre></td><td style=\"text-align: left; vertical-align: middle;\"><pre>[[0]<br/> [0]<br/> [1]<br/> [1]<br/> [1]<br/> [3]]</pre></td><td style=\"text-align: left; vertical-align: middle;\"><pre>[[0.7]<br/> [1. ]<br/> [0. ]<br/> [0.1]]</pre></td><td style=\"text-align: left; vertical-align: middle;\"><pre>[[ 5.]<br/> [ 3.]<br/> [10.]<br/> [ 1.]]</pre></td><td style=\"text-align: left; vertical-align: middle;\"><pre>[[0]<br/> [0]<br/> [1]<br/> [1]<br/> [1]<br/> [3]]</pre></td><td style=\"text-align: left; vertical-align: middle;\"><pre>[[3.57]<br/> [1.43]<br/> [0.  ]<br/> [1.5 ]<br/> [1.5 ]<br/> [1.  ]]</pre></td></tr><tr><td style=\"text-align: left; vertical-align: middle;\"><pre>Σ</pre></td><td style=\"text-align: left; vertical-align: middle;\"><pre></pre></td><td style=\"text-align: left; vertical-align: middle;\"><pre></pre></td><td style=\"text-align: left; vertical-align: middle;\"><pre>19.0</pre></td><td style=\"text-align: left; vertical-align: middle;\"><pre></pre></td><td style=\"text-align: left; vertical-align: middle;\"><pre>9.0</pre></td></tr></table>"
      ],
      "text/plain": [
       "<IPython.core.display.HTML object>"
      ]
     },
     "execution_count": 44,
     "metadata": {},
     "output_type": "execute_result"
    }
   ],
   "source": [
    "input = torch.tensor([.5, .2, .0, .5, .5, .1])\n",
    "idx = torch.tensor([0, 0, 1, 1, 1, 3])\n",
    "rel_out = torch.tensor([5, 3, 10, 1], dtype=torch.float)\n",
    "rel_in = scatter_add_relevance(input, idx, output, rel_out)\n",
    "\n",
    "make_table([\n",
    "    ['input', 'idx', 'output', 'rel_out', 'idx', 'rel_in'],\n",
    "    [input,    idx,   output,   rel_out,   idx,   rel_in.numpy().round(2)],\n",
    "    ['Σ',        '',      '',   rel_out.sum(), '', rel_in.sum()],\n",
    "])"
   ]
  },
  {
   "cell_type": "code",
   "execution_count": 53,
   "metadata": {},
   "outputs": [],
   "source": [
    "class ScatterAdd(RelevanceFunction):\n",
    "    def forward(self, input, idx, dim, dim_size):\n",
    "        output = torch_scatter.scatter_add(input, idx, dim=dim, dim_size=dim_size)\n",
    "        self.saved_stuff = input, idx, dim, output\n",
    "        return output\n",
    "    def relevance(self, rel_out):\n",
    "        input, idx, dim, output = self.saved_stuff\n",
    "        if ((output == 0) & (rel_out > 0)).any():\n",
    "            warnings.warn('Relevance that is propagated back through an output of 0 will be lost')\n",
    "        return torch.index_select(rel_out / output, dim, idx) * input"
   ]
  },
  {
   "cell_type": "code",
   "execution_count": 55,
   "metadata": {},
   "outputs": [
    {
     "data": {
      "text/html": [
       "<table><tr><td style=\"text-align: left; vertical-align: middle;\"><pre>input</pre></td><td style=\"text-align: left; vertical-align: middle;\"><pre>idx</pre></td><td style=\"text-align: left; vertical-align: middle;\"><pre>output</pre></td><td style=\"text-align: left; vertical-align: middle;\"><pre>rel_out</pre></td><td style=\"text-align: left; vertical-align: middle;\"><pre>idx</pre></td><td style=\"text-align: left; vertical-align: middle;\"><pre>rel_in</pre></td></tr><tr><td style=\"text-align: left; vertical-align: middle;\"><pre>[[0.5]<br/> [0.2]<br/> [0. ]<br/> [0.5]<br/> [0.5]<br/> [0.1]]</pre></td><td style=\"text-align: left; vertical-align: middle;\"><pre>[[0]<br/> [0]<br/> [1]<br/> [1]<br/> [1]<br/> [3]]</pre></td><td style=\"text-align: left; vertical-align: middle;\"><pre>[[0.7]<br/> [1. ]<br/> [0. ]<br/> [0.1]]</pre></td><td style=\"text-align: left; vertical-align: middle;\"><pre>[[5.]<br/> [3.]<br/> [0.]<br/> [1.]]</pre></td><td style=\"text-align: left; vertical-align: middle;\"><pre>[[0]<br/> [0]<br/> [1]<br/> [1]<br/> [1]<br/> [3]]</pre></td><td style=\"text-align: left; vertical-align: middle;\"><pre>[[3.57]<br/> [1.43]<br/> [0.  ]<br/> [1.5 ]<br/> [1.5 ]<br/> [1.  ]]</pre></td></tr><tr><td style=\"text-align: left; vertical-align: middle;\"><pre>Σ</pre></td><td style=\"text-align: left; vertical-align: middle;\"><pre></pre></td><td style=\"text-align: left; vertical-align: middle;\"><pre></pre></td><td style=\"text-align: left; vertical-align: middle;\"><pre>9.0</pre></td><td style=\"text-align: left; vertical-align: middle;\"><pre></pre></td><td style=\"text-align: left; vertical-align: middle;\"><pre>9.0</pre></td></tr></table>"
      ],
      "text/plain": [
       "<IPython.core.display.HTML object>"
      ]
     },
     "execution_count": 55,
     "metadata": {},
     "output_type": "execute_result"
    }
   ],
   "source": [
    "op = ScatterAdd()\n",
    "input = torch.tensor([.5, .2, .0, .5, .5, .1])\n",
    "idx = torch.tensor([0, 0, 1, 1, 1, 3])\n",
    "output = op.forward(input, idx, dim=0, dim_size=4)\n",
    "rel_out = torch.tensor([5, 3, 0, 1], dtype=torch.float)\n",
    "rel_in = op.relevance(rel_out)\n",
    "make_table([\n",
    "    ['input', 'idx', 'output', 'rel_out', 'idx', 'rel_in'],\n",
    "    [input,    idx,   output,   rel_out,   idx,   rel_in.numpy().round(2)],\n",
    "    ['Σ',        '',      '',   rel_out.sum(), '', rel_in.sum()],\n",
    "])"
   ]
  },
  {
   "cell_type": "code",
   "execution_count": 56,
   "metadata": {},
   "outputs": [
    {
     "name": "stderr",
     "output_type": "stream",
     "text": [
      "UserWarning: Relevance that is propagated back through an output of 0 will be lost"
     ]
    },
    {
     "data": {
      "text/html": [
       "<table><tr><td style=\"text-align: left; vertical-align: middle;\"><pre>input</pre></td><td style=\"text-align: left; vertical-align: middle;\"><pre>idx</pre></td><td style=\"text-align: left; vertical-align: middle;\"><pre>output</pre></td><td style=\"text-align: left; vertical-align: middle;\"><pre>rel_out</pre></td><td style=\"text-align: left; vertical-align: middle;\"><pre>idx</pre></td><td style=\"text-align: left; vertical-align: middle;\"><pre>rel_in</pre></td></tr><tr><td style=\"text-align: left; vertical-align: middle;\"><pre>[[0.5]<br/> [0.2]<br/> [0. ]<br/> [0.5]<br/> [0.5]<br/> [0.1]]</pre></td><td style=\"text-align: left; vertical-align: middle;\"><pre>[[0]<br/> [0]<br/> [1]<br/> [1]<br/> [1]<br/> [3]]</pre></td><td style=\"text-align: left; vertical-align: middle;\"><pre>[[0.7]<br/> [1. ]<br/> [0. ]<br/> [0.1]]</pre></td><td style=\"text-align: left; vertical-align: middle;\"><pre>[[ 5.]<br/> [ 3.]<br/> [10.]<br/> [ 1.]]</pre></td><td style=\"text-align: left; vertical-align: middle;\"><pre>[[0]<br/> [0]<br/> [1]<br/> [1]<br/> [1]<br/> [3]]</pre></td><td style=\"text-align: left; vertical-align: middle;\"><pre>[[3.57]<br/> [1.43]<br/> [0.  ]<br/> [1.5 ]<br/> [1.5 ]<br/> [1.  ]]</pre></td></tr><tr><td style=\"text-align: left; vertical-align: middle;\"><pre>Σ</pre></td><td style=\"text-align: left; vertical-align: middle;\"><pre></pre></td><td style=\"text-align: left; vertical-align: middle;\"><pre></pre></td><td style=\"text-align: left; vertical-align: middle;\"><pre>19.0</pre></td><td style=\"text-align: left; vertical-align: middle;\"><pre></pre></td><td style=\"text-align: left; vertical-align: middle;\"><pre>9.0</pre></td></tr></table>"
      ],
      "text/plain": [
       "<IPython.core.display.HTML object>"
      ]
     },
     "execution_count": 56,
     "metadata": {},
     "output_type": "execute_result"
    }
   ],
   "source": [
    "op = ScatterAdd()\n",
    "input = torch.tensor([.5, .2, .0, .5, .5, .1])\n",
    "idx = torch.tensor([0, 0, 1, 1, 1, 3])\n",
    "output = op.forward(input, idx, dim=0, dim_size=4)\n",
    "rel_out = torch.tensor([5, 3, 10, 1], dtype=torch.float)\n",
    "rel_in = op.relevance(rel_out)\n",
    "make_table([\n",
    "    ['input', 'idx', 'output', 'rel_out', 'idx', 'rel_in'],\n",
    "    [input,    idx,   output,   rel_out,   idx,   rel_in.numpy().round(2)],\n",
    "    ['Σ',        '',      '',   rel_out.sum(), '', rel_in.sum()],\n",
    "])"
   ]
  },
  {
   "cell_type": "markdown",
   "metadata": {},
   "source": [
    "## Scatter Mean"
   ]
  },
  {
   "cell_type": "code",
   "execution_count": 64,
   "metadata": {},
   "outputs": [],
   "source": [
    "def scatter_mean(input, idx, size):\n",
    "    output = torch.zeros(size)\n",
    "    counts = torch.zeros(size, dtype=torch.int)\n",
    "    for idx_input, idx_output in zip(range(len(input)), idx):\n",
    "        output[idx_output] += input[idx_input]\n",
    "        counts[idx_output] += 1\n",
    "    return output / counts.float().clamp(min=1), counts"
   ]
  },
  {
   "cell_type": "code",
   "execution_count": 65,
   "metadata": {},
   "outputs": [
    {
     "data": {
      "text/html": [
       "<table><tr><td style=\"text-align: left; vertical-align: middle;\"><pre>input</pre></td><td style=\"text-align: left; vertical-align: middle;\"><pre>idx</pre></td><td style=\"text-align: left; vertical-align: middle;\"><pre>output</pre></td><td style=\"text-align: left; vertical-align: middle;\"><pre>counts</pre></td></tr><tr><td style=\"text-align: left; vertical-align: middle;\"><pre>[[0.5]<br/> [0.2]<br/> [0. ]<br/> [0.5]<br/> [0.5]<br/> [0.1]]</pre></td><td style=\"text-align: left; vertical-align: middle;\"><pre>[[0]<br/> [0]<br/> [1]<br/> [1]<br/> [1]<br/> [3]]</pre></td><td style=\"text-align: left; vertical-align: middle;\"><pre>[[0.35]<br/> [0.33]<br/> [0.  ]<br/> [0.1 ]]</pre></td><td style=\"text-align: left; vertical-align: middle;\"><pre>[[2]<br/> [3]<br/> [0]<br/> [1]]</pre></td></tr></table>"
      ],
      "text/plain": [
       "<IPython.core.display.HTML object>"
      ]
     },
     "execution_count": 65,
     "metadata": {},
     "output_type": "execute_result"
    }
   ],
   "source": [
    "input = torch.tensor([.5, .2, .0, .5, .5, .1])\n",
    "idx = torch.tensor([0, 0, 1, 1, 1, 3])\n",
    "output, counts = scatter_mean(input, idx, 4)\n",
    "\n",
    "make_table([\n",
    "    ['input', 'idx', 'output', 'counts'],\n",
    "    [input,    idx,   output.numpy().round(2),   counts],\n",
    "])"
   ]
  },
  {
   "cell_type": "code",
   "execution_count": 66,
   "metadata": {},
   "outputs": [],
   "source": [
    "def scatter_mean_relevance(input, idx, output, counts, rel_out):\n",
    "    output = output * counts.float()\n",
    "    rel_in = torch.zeros_like(input)\n",
    "    for idx_input, idx_output in zip(range(len(input)), idx):\n",
    "        rel_in[idx_input] = rel_out[idx_output] * input[idx_input] / output[idx_output]\n",
    "    return rel_in"
   ]
  },
  {
   "cell_type": "code",
   "execution_count": 67,
   "metadata": {},
   "outputs": [
    {
     "data": {
      "text/html": [
       "<table><tr><td style=\"text-align: left; vertical-align: middle;\"><pre>input</pre></td><td style=\"text-align: left; vertical-align: middle;\"><pre>idx</pre></td><td style=\"text-align: left; vertical-align: middle;\"><pre>output</pre></td><td style=\"text-align: left; vertical-align: middle;\"><pre>counts</pre></td><td style=\"text-align: left; vertical-align: middle;\"><pre>rel_out</pre></td><td style=\"text-align: left; vertical-align: middle;\"><pre>idx</pre></td><td style=\"text-align: left; vertical-align: middle;\"><pre>rel_in</pre></td></tr><tr><td style=\"text-align: left; vertical-align: middle;\"><pre>[[0.5]<br/> [0.2]<br/> [0. ]<br/> [0.5]<br/> [0.5]<br/> [0.1]]</pre></td><td style=\"text-align: left; vertical-align: middle;\"><pre>[[0]<br/> [0]<br/> [1]<br/> [1]<br/> [1]<br/> [3]]</pre></td><td style=\"text-align: left; vertical-align: middle;\"><pre>[[0.35]<br/> [0.33]<br/> [0.  ]<br/> [0.1 ]]</pre></td><td style=\"text-align: left; vertical-align: middle;\"><pre>[[2]<br/> [3]<br/> [0]<br/> [1]]</pre></td><td style=\"text-align: left; vertical-align: middle;\"><pre>[[5.]<br/> [3.]<br/> [0.]<br/> [1.]]</pre></td><td style=\"text-align: left; vertical-align: middle;\"><pre>[[0]<br/> [0]<br/> [1]<br/> [1]<br/> [1]<br/> [3]]</pre></td><td style=\"text-align: left; vertical-align: middle;\"><pre>[[3.57]<br/> [1.43]<br/> [0.  ]<br/> [1.5 ]<br/> [1.5 ]<br/> [1.  ]]</pre></td></tr><tr><td style=\"text-align: left; vertical-align: middle;\"><pre>Σ</pre></td><td style=\"text-align: left; vertical-align: middle;\"><pre></pre></td><td style=\"text-align: left; vertical-align: middle;\"><pre></pre></td><td style=\"text-align: left; vertical-align: middle;\"><pre></pre></td><td style=\"text-align: left; vertical-align: middle;\"><pre>9.0</pre></td><td style=\"text-align: left; vertical-align: middle;\"><pre></pre></td><td style=\"text-align: left; vertical-align: middle;\"><pre>9.0</pre></td></tr></table>"
      ],
      "text/plain": [
       "<IPython.core.display.HTML object>"
      ]
     },
     "execution_count": 67,
     "metadata": {},
     "output_type": "execute_result"
    }
   ],
   "source": [
    "input = torch.tensor([.5, .2, .0, .5, .5, .1])\n",
    "idx = torch.tensor([0, 0, 1, 1, 1, 3])\n",
    "rel_out = torch.tensor([5, 3, 0, 1], dtype=torch.float)\n",
    "rel_in = scatter_mean_relevance(input, idx, output, counts, rel_out)\n",
    "\n",
    "make_table([\n",
    "    ['input', 'idx', 'output', 'counts', 'rel_out', 'idx', 'rel_in'],\n",
    "    [input,    idx,   output.numpy().round(2),   counts,   rel_out,   idx,   rel_in.numpy().round(2)],\n",
    "    ['Σ',        '',      '',       '',   rel_out.sum(), '', rel_in.sum()],\n",
    "])"
   ]
  },
  {
   "cell_type": "markdown",
   "metadata": {},
   "source": [
    "Corner case: if an output neuron with 0 activation (either because no index was pointing at it or because all of its inputs were 0) receives relevance, that relevance is _lost_."
   ]
  },
  {
   "cell_type": "code",
   "execution_count": 68,
   "metadata": {},
   "outputs": [
    {
     "data": {
      "text/html": [
       "<table><tr><td style=\"text-align: left; vertical-align: middle;\"><pre>input</pre></td><td style=\"text-align: left; vertical-align: middle;\"><pre>idx</pre></td><td style=\"text-align: left; vertical-align: middle;\"><pre>output</pre></td><td style=\"text-align: left; vertical-align: middle;\"><pre>counts</pre></td><td style=\"text-align: left; vertical-align: middle;\"><pre>rel_out</pre></td><td style=\"text-align: left; vertical-align: middle;\"><pre>idx</pre></td><td style=\"text-align: left; vertical-align: middle;\"><pre>rel_in</pre></td></tr><tr><td style=\"text-align: left; vertical-align: middle;\"><pre>[[0.5]<br/> [0.2]<br/> [0. ]<br/> [0.5]<br/> [0.5]<br/> [0.1]]</pre></td><td style=\"text-align: left; vertical-align: middle;\"><pre>[[0]<br/> [0]<br/> [1]<br/> [1]<br/> [1]<br/> [3]]</pre></td><td style=\"text-align: left; vertical-align: middle;\"><pre>[[0.35]<br/> [0.33]<br/> [0.  ]<br/> [0.1 ]]</pre></td><td style=\"text-align: left; vertical-align: middle;\"><pre>[[2]<br/> [3]<br/> [0]<br/> [1]]</pre></td><td style=\"text-align: left; vertical-align: middle;\"><pre>[[ 5.]<br/> [ 3.]<br/> [10.]<br/> [ 1.]]</pre></td><td style=\"text-align: left; vertical-align: middle;\"><pre>[[0]<br/> [0]<br/> [1]<br/> [1]<br/> [1]<br/> [3]]</pre></td><td style=\"text-align: left; vertical-align: middle;\"><pre>[[3.57]<br/> [1.43]<br/> [0.  ]<br/> [1.5 ]<br/> [1.5 ]<br/> [1.  ]]</pre></td></tr><tr><td style=\"text-align: left; vertical-align: middle;\"><pre>Σ</pre></td><td style=\"text-align: left; vertical-align: middle;\"><pre></pre></td><td style=\"text-align: left; vertical-align: middle;\"><pre></pre></td><td style=\"text-align: left; vertical-align: middle;\"><pre></pre></td><td style=\"text-align: left; vertical-align: middle;\"><pre>19.0</pre></td><td style=\"text-align: left; vertical-align: middle;\"><pre></pre></td><td style=\"text-align: left; vertical-align: middle;\"><pre>9.0</pre></td></tr></table>"
      ],
      "text/plain": [
       "<IPython.core.display.HTML object>"
      ]
     },
     "execution_count": 68,
     "metadata": {},
     "output_type": "execute_result"
    }
   ],
   "source": [
    "input = torch.tensor([.5, .2, .0, .5, .5, .1])\n",
    "idx = torch.tensor([0, 0, 1, 1, 1, 3])\n",
    "rel_out = torch.tensor([5, 3, 10, 1], dtype=torch.float)\n",
    "rel_in = scatter_mean_relevance(input, idx, output, counts, rel_out)\n",
    "\n",
    "make_table([\n",
    "    ['input', 'idx', 'output', 'counts', 'rel_out', 'idx', 'rel_in'],\n",
    "    [input,    idx,   output.numpy().round(2),   counts,   rel_out,   idx,   rel_in.numpy().round(2)],\n",
    "    ['Σ',        '',      '',       '',   rel_out.sum(), '', rel_in.sum()],\n",
    "])"
   ]
  },
  {
   "cell_type": "code",
   "execution_count": 69,
   "metadata": {},
   "outputs": [],
   "source": [
    "class ScatterMean(RelevanceFunction):\n",
    "    def forward(self, input, idx, dim_size):\n",
    "        sums = torch_scatter.scatter_add(input, idx, dim=0, dim_size=dim_size)\n",
    "        counts = torch_scatter.scatter_add(torch.ones_like(input), idx, dim=0, dim_size=dim_size)\n",
    "        self.saved_stuff = input, idx, sums\n",
    "        return sums / counts.clamp(min=1)\n",
    "    def relevance(self, rel_out):\n",
    "        input, idx, sums = self.saved_stuff\n",
    "        if ((sums == 0) & (rel_out > 0)).any():\n",
    "            warnings.warn('Relevance that is propagated back through an output of 0 will be lost')\n",
    "        return torch.index_select(rel_out / sums, 0, idx) * input"
   ]
  },
  {
   "cell_type": "code",
   "execution_count": 72,
   "metadata": {},
   "outputs": [
    {
     "data": {
      "text/html": [
       "<table><tr><td style=\"text-align: left; vertical-align: middle;\"><pre>input</pre></td><td style=\"text-align: left; vertical-align: middle;\"><pre>idx</pre></td><td style=\"text-align: left; vertical-align: middle;\"><pre>output</pre></td><td style=\"text-align: left; vertical-align: middle;\"><pre>rel_out</pre></td><td style=\"text-align: left; vertical-align: middle;\"><pre>idx</pre></td><td style=\"text-align: left; vertical-align: middle;\"><pre>rel_in</pre></td></tr><tr><td style=\"text-align: left; vertical-align: middle;\"><pre>[[0.5]<br/> [0.2]<br/> [0. ]<br/> [0.5]<br/> [0.5]<br/> [0.1]]</pre></td><td style=\"text-align: left; vertical-align: middle;\"><pre>[[0]<br/> [0]<br/> [1]<br/> [1]<br/> [1]<br/> [3]]</pre></td><td style=\"text-align: left; vertical-align: middle;\"><pre>[[0.35]<br/> [0.33]<br/> [0.  ]<br/> [0.1 ]]</pre></td><td style=\"text-align: left; vertical-align: middle;\"><pre>[[5.]<br/> [3.]<br/> [0.]<br/> [1.]]</pre></td><td style=\"text-align: left; vertical-align: middle;\"><pre>[[0]<br/> [0]<br/> [1]<br/> [1]<br/> [1]<br/> [3]]</pre></td><td style=\"text-align: left; vertical-align: middle;\"><pre>[[3.57]<br/> [1.43]<br/> [0.  ]<br/> [1.5 ]<br/> [1.5 ]<br/> [1.  ]]</pre></td></tr><tr><td style=\"text-align: left; vertical-align: middle;\"><pre>Σ</pre></td><td style=\"text-align: left; vertical-align: middle;\"><pre></pre></td><td style=\"text-align: left; vertical-align: middle;\"><pre></pre></td><td style=\"text-align: left; vertical-align: middle;\"><pre>9.0</pre></td><td style=\"text-align: left; vertical-align: middle;\"><pre></pre></td><td style=\"text-align: left; vertical-align: middle;\"><pre>9.0</pre></td></tr></table>"
      ],
      "text/plain": [
       "<IPython.core.display.HTML object>"
      ]
     },
     "execution_count": 72,
     "metadata": {},
     "output_type": "execute_result"
    }
   ],
   "source": [
    "op = ScatterMean()\n",
    "input = torch.tensor([.5, .2, .0, .5, .5, .1])\n",
    "idx = torch.tensor([0, 0, 1, 1, 1, 3])\n",
    "output = op.forward(input, idx, 4)\n",
    "rel_out = torch.tensor([5, 3, 0, 1], dtype=torch.float)\n",
    "rel_in = op.relevance(rel_out)\n",
    "make_table([\n",
    "    ['input', 'idx', 'output', 'rel_out', 'idx', 'rel_in'],\n",
    "    [input,    idx,   output.numpy().round(2), rel_out,   idx,   rel_in.numpy().round(2)],\n",
    "    ['Σ',        '',      '',     rel_out.sum(), '', rel_in.sum()],\n",
    "])"
   ]
  },
  {
   "cell_type": "code",
   "execution_count": 73,
   "metadata": {},
   "outputs": [
    {
     "name": "stderr",
     "output_type": "stream",
     "text": [
      "UserWarning: Relevance that is propagated back through an output of 0 will be lost"
     ]
    },
    {
     "data": {
      "text/html": [
       "<table><tr><td style=\"text-align: left; vertical-align: middle;\"><pre>input</pre></td><td style=\"text-align: left; vertical-align: middle;\"><pre>idx</pre></td><td style=\"text-align: left; vertical-align: middle;\"><pre>output</pre></td><td style=\"text-align: left; vertical-align: middle;\"><pre>rel_out</pre></td><td style=\"text-align: left; vertical-align: middle;\"><pre>idx</pre></td><td style=\"text-align: left; vertical-align: middle;\"><pre>rel_in</pre></td></tr><tr><td style=\"text-align: left; vertical-align: middle;\"><pre>[[0.5]<br/> [0.2]<br/> [0. ]<br/> [0.5]<br/> [0.5]<br/> [0.1]]</pre></td><td style=\"text-align: left; vertical-align: middle;\"><pre>[[0]<br/> [0]<br/> [1]<br/> [1]<br/> [1]<br/> [3]]</pre></td><td style=\"text-align: left; vertical-align: middle;\"><pre>[[0.35]<br/> [0.33]<br/> [0.  ]<br/> [0.1 ]]</pre></td><td style=\"text-align: left; vertical-align: middle;\"><pre>[[ 5.]<br/> [ 3.]<br/> [10.]<br/> [ 1.]]</pre></td><td style=\"text-align: left; vertical-align: middle;\"><pre>[[0]<br/> [0]<br/> [1]<br/> [1]<br/> [1]<br/> [3]]</pre></td><td style=\"text-align: left; vertical-align: middle;\"><pre>[[3.57]<br/> [1.43]<br/> [0.  ]<br/> [1.5 ]<br/> [1.5 ]<br/> [1.  ]]</pre></td></tr><tr><td style=\"text-align: left; vertical-align: middle;\"><pre>Σ</pre></td><td style=\"text-align: left; vertical-align: middle;\"><pre></pre></td><td style=\"text-align: left; vertical-align: middle;\"><pre></pre></td><td style=\"text-align: left; vertical-align: middle;\"><pre>19.0</pre></td><td style=\"text-align: left; vertical-align: middle;\"><pre></pre></td><td style=\"text-align: left; vertical-align: middle;\"><pre>9.0</pre></td></tr></table>"
      ],
      "text/plain": [
       "<IPython.core.display.HTML object>"
      ]
     },
     "execution_count": 73,
     "metadata": {},
     "output_type": "execute_result"
    }
   ],
   "source": [
    "op = ScatterMean()\n",
    "input = torch.tensor([.5, .2, .0, .5, .5, .1])\n",
    "idx = torch.tensor([0, 0, 1, 1, 1, 3])\n",
    "output = op.forward(input, idx, 4)\n",
    "rel_out = torch.tensor([5, 3, 10, 1], dtype=torch.float)\n",
    "rel_in = op.relevance(rel_out)\n",
    "make_table([\n",
    "    ['input', 'idx', 'output', 'rel_out', 'idx', 'rel_in'],\n",
    "    [input,    idx,   output.numpy().round(2), rel_out,   idx,   rel_in.numpy().round(2)],\n",
    "    ['Σ',        '',      '',     rel_out.sum(), '', rel_in.sum()],\n",
    "])"
   ]
  },
  {
   "cell_type": "markdown",
   "metadata": {},
   "source": [
    "## Scatter Max"
   ]
  },
  {
   "cell_type": "code",
   "execution_count": 31,
   "metadata": {},
   "outputs": [],
   "source": [
    "def scatter_max(input, idx, size):\n",
    "    output = torch.zeros(size)\n",
    "    idx_maxes = - torch.ones(size, dtype=torch.int)\n",
    "    for idx_input, idx_output in zip(range(len(input)), idx):\n",
    "        if input[idx_input] > output[idx_output]:\n",
    "            output[idx_output] = input[idx_input]\n",
    "            idx_maxes[idx_output] = idx_input\n",
    "    return output, idx_maxes"
   ]
  },
  {
   "cell_type": "code",
   "execution_count": 32,
   "metadata": {},
   "outputs": [
    {
     "data": {
      "text/html": [
       "<table><tr><td style=\"text-align: left; vertical-align: middle;\"><pre>input</pre></td><td style=\"text-align: left; vertical-align: middle;\"><pre>idx</pre></td><td style=\"text-align: left; vertical-align: middle;\"><pre>output</pre></td><td style=\"text-align: left; vertical-align: middle;\"><pre>idx_maxes</pre></td></tr><tr><td style=\"text-align: left; vertical-align: middle;\"><pre>[[0.5]<br/> [0.1]<br/> [0. ]<br/> [0.7]<br/> [0.3]<br/> [0.1]]</pre></td><td style=\"text-align: left; vertical-align: middle;\"><pre>[[0]<br/> [0]<br/> [1]<br/> [1]<br/> [1]<br/> [3]]</pre></td><td style=\"text-align: left; vertical-align: middle;\"><pre>[[0.5]<br/> [0.7]<br/> [0. ]<br/> [0.1]]</pre></td><td style=\"text-align: left; vertical-align: middle;\"><pre>[[ 0]<br/> [ 3]<br/> [-1]<br/> [ 5]]</pre></td></tr></table>"
      ],
      "text/plain": [
       "<IPython.core.display.HTML object>"
      ]
     },
     "execution_count": 32,
     "metadata": {},
     "output_type": "execute_result"
    }
   ],
   "source": [
    "input = torch.tensor([.5, .1, .0, .7, .3, .1])\n",
    "idx = torch.tensor([0, 0, 1, 1, 1, 3])\n",
    "output, idx_maxes = scatter_max(input, idx, 4)\n",
    "\n",
    "make_table([\n",
    "    ['input', 'idx', 'output', 'idx_maxes'],\n",
    "    [input,    idx,   output,   idx_maxes],\n",
    "])"
   ]
  },
  {
   "cell_type": "code",
   "execution_count": 33,
   "metadata": {},
   "outputs": [],
   "source": [
    "def scatter_max_relevance(input, idx_maxes, rel_out):\n",
    "    rel_in = torch.zeros_like(input)\n",
    "    for idx_input, idx_output in zip(idx_maxes, range(len(idx_maxes))):\n",
    "        if idx_output != -1:\n",
    "            rel_in[idx_input] = rel_out[idx_output]\n",
    "    return rel_in"
   ]
  },
  {
   "cell_type": "code",
   "execution_count": 34,
   "metadata": {},
   "outputs": [
    {
     "data": {
      "text/html": [
       "<table><tr><td style=\"text-align: left; vertical-align: middle;\"><pre>input</pre></td><td style=\"text-align: left; vertical-align: middle;\"><pre>idx</pre></td><td style=\"text-align: left; vertical-align: middle;\"><pre>output</pre></td><td style=\"text-align: left; vertical-align: middle;\"><pre>rel_out</pre></td><td style=\"text-align: left; vertical-align: middle;\"><pre>idx</pre></td><td style=\"text-align: left; vertical-align: middle;\"><pre>rel_in</pre></td></tr><tr><td style=\"text-align: left; vertical-align: middle;\"><pre>[[0.5]<br/> [0.1]<br/> [0. ]<br/> [0.7]<br/> [0.3]<br/> [0.1]]</pre></td><td style=\"text-align: left; vertical-align: middle;\"><pre>[[0]<br/> [0]<br/> [1]<br/> [1]<br/> [1]<br/> [3]]</pre></td><td style=\"text-align: left; vertical-align: middle;\"><pre>[[0.5]<br/> [0.7]<br/> [0. ]<br/> [0.1]]</pre></td><td style=\"text-align: left; vertical-align: middle;\"><pre>[[5.]<br/> [3.]<br/> [0.]<br/> [1.]]</pre></td><td style=\"text-align: left; vertical-align: middle;\"><pre>[[0]<br/> [0]<br/> [1]<br/> [1]<br/> [1]<br/> [3]]</pre></td><td style=\"text-align: left; vertical-align: middle;\"><pre>[[5.]<br/> [0.]<br/> [0.]<br/> [3.]<br/> [0.]<br/> [1.]]</pre></td></tr><tr><td style=\"text-align: left; vertical-align: middle;\"><pre>Σ</pre></td><td style=\"text-align: left; vertical-align: middle;\"><pre></pre></td><td style=\"text-align: left; vertical-align: middle;\"><pre></pre></td><td style=\"text-align: left; vertical-align: middle;\"><pre>9.0</pre></td><td style=\"text-align: left; vertical-align: middle;\"><pre></pre></td><td style=\"text-align: left; vertical-align: middle;\"><pre>9.0</pre></td></tr></table>"
      ],
      "text/plain": [
       "<IPython.core.display.HTML object>"
      ]
     },
     "execution_count": 34,
     "metadata": {},
     "output_type": "execute_result"
    }
   ],
   "source": [
    "input = torch.tensor([.5, .1, .0, .7, .3, .1])\n",
    "idx = torch.tensor([0, 0, 1, 1, 1, 3])\n",
    "rel_out = torch.tensor([5, 3, 0, 1], dtype=torch.float)\n",
    "rel_in = scatter_max_relevance(input, idx_maxes, rel_out)\n",
    "\n",
    "make_table([\n",
    "    ['input', 'idx', 'output', 'rel_out', 'idx', 'rel_in'],\n",
    "    [input,    idx,   output,   rel_out,   idx,   rel_in.numpy().round(2)],\n",
    "    ['Σ',        '',      '',   rel_out.sum(), '', rel_in.sum()],\n",
    "])"
   ]
  },
  {
   "cell_type": "markdown",
   "metadata": {},
   "source": [
    "Corner case: if an output neuron with 0 activation (either because no index was pointing at it or because all of its inputs were 0) receives relevance, that relevance is _lost_."
   ]
  },
  {
   "cell_type": "code",
   "execution_count": 35,
   "metadata": {},
   "outputs": [
    {
     "data": {
      "text/html": [
       "<table><tr><td style=\"text-align: left; vertical-align: middle;\"><pre>input</pre></td><td style=\"text-align: left; vertical-align: middle;\"><pre>idx</pre></td><td style=\"text-align: left; vertical-align: middle;\"><pre>output</pre></td><td style=\"text-align: left; vertical-align: middle;\"><pre>rel_out</pre></td><td style=\"text-align: left; vertical-align: middle;\"><pre>idx</pre></td><td style=\"text-align: left; vertical-align: middle;\"><pre>rel_in</pre></td></tr><tr><td style=\"text-align: left; vertical-align: middle;\"><pre>[[0.5]<br/> [0.1]<br/> [0. ]<br/> [0.7]<br/> [0.3]<br/> [0.1]]</pre></td><td style=\"text-align: left; vertical-align: middle;\"><pre>[[0]<br/> [0]<br/> [1]<br/> [1]<br/> [1]<br/> [3]]</pre></td><td style=\"text-align: left; vertical-align: middle;\"><pre>[[0.5]<br/> [0.7]<br/> [0. ]<br/> [0.1]]</pre></td><td style=\"text-align: left; vertical-align: middle;\"><pre>[[ 5.]<br/> [ 3.]<br/> [10.]<br/> [ 1.]]</pre></td><td style=\"text-align: left; vertical-align: middle;\"><pre>[[0]<br/> [0]<br/> [1]<br/> [1]<br/> [1]<br/> [3]]</pre></td><td style=\"text-align: left; vertical-align: middle;\"><pre>[[5.]<br/> [0.]<br/> [0.]<br/> [3.]<br/> [0.]<br/> [1.]]</pre></td></tr><tr><td style=\"text-align: left; vertical-align: middle;\"><pre>Σ</pre></td><td style=\"text-align: left; vertical-align: middle;\"><pre></pre></td><td style=\"text-align: left; vertical-align: middle;\"><pre></pre></td><td style=\"text-align: left; vertical-align: middle;\"><pre>19.0</pre></td><td style=\"text-align: left; vertical-align: middle;\"><pre></pre></td><td style=\"text-align: left; vertical-align: middle;\"><pre>9.0</pre></td></tr></table>"
      ],
      "text/plain": [
       "<IPython.core.display.HTML object>"
      ]
     },
     "execution_count": 35,
     "metadata": {},
     "output_type": "execute_result"
    }
   ],
   "source": [
    "input = torch.tensor([.5, .1, .0, .7, .3, .1])\n",
    "idx = torch.tensor([0, 0, 1, 1, 1, 3])\n",
    "rel_out = torch.tensor([5, 3, 10, 1], dtype=torch.float)\n",
    "rel_in = scatter_max_relevance(input, idx_maxes, rel_out)\n",
    "\n",
    "make_table([\n",
    "    ['input', 'idx', 'output', 'rel_out', 'idx', 'rel_in'],\n",
    "    [input,    idx,   output,   rel_out,   idx,   rel_in.numpy().round(2)],\n",
    "    ['Σ',        '',      '',   rel_out.sum(), '', rel_in.sum()],\n",
    "])"
   ]
  },
  {
   "cell_type": "code",
   "execution_count": 74,
   "metadata": {},
   "outputs": [],
   "source": [
    "class ScatterMax(RelevanceFunction):\n",
    "    def forward(self, input, idx, dim, dim_size):\n",
    "        output, idx_maxes = torch_scatter.scatter_max(input, idx, dim=dim, dim_size=dim_size)\n",
    "        self.saved_stuff = idx, dim, input.shape[dim], output, idx_maxes\n",
    "        return output, idx_maxes\n",
    "    def relevance(self, rel_out):\n",
    "        idx, dim, input_dim, output, idx_maxes = self.saved_stuff\n",
    "        if ((idx_maxes == -1) & (rel_out > 0)).any():\n",
    "            warnings.warn('Relevance that is propagated back through an output of 0 will be lost')\n",
    "        # Where idx_maxes==-1 set idx=0 so that the indexes are valid for scatter_add\n",
    "        # The corresponding relevance should already be 0, but set it relevance=0 to be sure\n",
    "        rel_out = torch.where(idx_maxes != -1, rel_out, torch.zeros_like(rel_out))\n",
    "        idx_maxes = torch.where(idx_maxes != -1, idx_maxes, torch.zeros_like(idx_maxes))\n",
    "        \n",
    "        return torch_scatter.scatter_add(rel_out, idx_maxes, dim=dim, dim_size=input_dim)"
   ]
  },
  {
   "cell_type": "code",
   "execution_count": 78,
   "metadata": {
    "jupyter": {
     "source_hidden": true
    }
   },
   "outputs": [
    {
     "data": {
      "text/html": [
       "<table><tr><td style=\"text-align: left; vertical-align: middle;\"><pre>input</pre></td><td style=\"text-align: left; vertical-align: middle;\"><pre>idx</pre></td><td style=\"text-align: left; vertical-align: middle;\"><pre>output</pre></td><td style=\"text-align: left; vertical-align: middle;\"><pre>rel_out</pre></td><td style=\"text-align: left; vertical-align: middle;\"><pre>idx</pre></td><td style=\"text-align: left; vertical-align: middle;\"><pre>rel_in</pre></td></tr><tr><td style=\"text-align: left; vertical-align: middle;\"><pre>[[0.5]<br/> [0.1]<br/> [0. ]<br/> [0.7]<br/> [0.3]<br/> [0.1]]</pre></td><td style=\"text-align: left; vertical-align: middle;\"><pre>[[0]<br/> [0]<br/> [1]<br/> [1]<br/> [1]<br/> [3]]</pre></td><td style=\"text-align: left; vertical-align: middle;\"><pre>[[0.5]<br/> [0.7]<br/> [0. ]<br/> [0.1]]</pre></td><td style=\"text-align: left; vertical-align: middle;\"><pre>[[5.]<br/> [3.]<br/> [0.]<br/> [1.]]</pre></td><td style=\"text-align: left; vertical-align: middle;\"><pre>[[0]<br/> [0]<br/> [1]<br/> [1]<br/> [1]<br/> [3]]</pre></td><td style=\"text-align: left; vertical-align: middle;\"><pre>[[5.]<br/> [0.]<br/> [0.]<br/> [3.]<br/> [0.]<br/> [1.]]</pre></td></tr><tr><td style=\"text-align: left; vertical-align: middle;\"><pre>Σ</pre></td><td style=\"text-align: left; vertical-align: middle;\"><pre></pre></td><td style=\"text-align: left; vertical-align: middle;\"><pre></pre></td><td style=\"text-align: left; vertical-align: middle;\"><pre>9.0</pre></td><td style=\"text-align: left; vertical-align: middle;\"><pre></pre></td><td style=\"text-align: left; vertical-align: middle;\"><pre>9.0</pre></td></tr></table>"
      ],
      "text/plain": [
       "<IPython.core.display.HTML object>"
      ]
     },
     "execution_count": 78,
     "metadata": {},
     "output_type": "execute_result"
    }
   ],
   "source": [
    "op = ScatterMax()\n",
    "input = torch.tensor([.5, .1, .0, .7, .3, .1])\n",
    "idx = torch.tensor([0, 0, 1, 1, 1, 3])\n",
    "output, _ = op.forward(input, idx, dim=0, dim_size=4)\n",
    "rel_out = torch.tensor([5, 3, 0, 1], dtype=torch.float)\n",
    "rel_in = op.relevance(rel_out)\n",
    "make_table([\n",
    "    ['input', 'idx', 'output', 'rel_out', 'idx', 'rel_in'],\n",
    "    [input,    idx,   output,   rel_out,   idx,   rel_in.numpy().round(2)],\n",
    "    ['Σ',        '',      '',   rel_out.sum(), '', rel_in.sum()],\n",
    "])"
   ]
  },
  {
   "cell_type": "code",
   "execution_count": 79,
   "metadata": {},
   "outputs": [
    {
     "name": "stderr",
     "output_type": "stream",
     "text": [
      "UserWarning: Relevance that is propagated back through an output of 0 will be lost"
     ]
    },
    {
     "data": {
      "text/html": [
       "<table><tr><td style=\"text-align: left; vertical-align: middle;\"><pre>input</pre></td><td style=\"text-align: left; vertical-align: middle;\"><pre>idx</pre></td><td style=\"text-align: left; vertical-align: middle;\"><pre>output</pre></td><td style=\"text-align: left; vertical-align: middle;\"><pre>rel_out</pre></td><td style=\"text-align: left; vertical-align: middle;\"><pre>idx</pre></td><td style=\"text-align: left; vertical-align: middle;\"><pre>rel_in</pre></td></tr><tr><td style=\"text-align: left; vertical-align: middle;\"><pre>[[0.5]<br/> [0.1]<br/> [0. ]<br/> [0.7]<br/> [0.3]<br/> [0.1]]</pre></td><td style=\"text-align: left; vertical-align: middle;\"><pre>[[0]<br/> [0]<br/> [1]<br/> [1]<br/> [1]<br/> [3]]</pre></td><td style=\"text-align: left; vertical-align: middle;\"><pre>[[0.5]<br/> [0.7]<br/> [0. ]<br/> [0.1]]</pre></td><td style=\"text-align: left; vertical-align: middle;\"><pre>[[ 5.]<br/> [ 3.]<br/> [10.]<br/> [ 1.]]</pre></td><td style=\"text-align: left; vertical-align: middle;\"><pre>[[0]<br/> [0]<br/> [1]<br/> [1]<br/> [1]<br/> [3]]</pre></td><td style=\"text-align: left; vertical-align: middle;\"><pre>[[5.]<br/> [0.]<br/> [0.]<br/> [3.]<br/> [0.]<br/> [1.]]</pre></td></tr><tr><td style=\"text-align: left; vertical-align: middle;\"><pre>Σ</pre></td><td style=\"text-align: left; vertical-align: middle;\"><pre></pre></td><td style=\"text-align: left; vertical-align: middle;\"><pre></pre></td><td style=\"text-align: left; vertical-align: middle;\"><pre>19.0</pre></td><td style=\"text-align: left; vertical-align: middle;\"><pre></pre></td><td style=\"text-align: left; vertical-align: middle;\"><pre>9.0</pre></td></tr></table>"
      ],
      "text/plain": [
       "<IPython.core.display.HTML object>"
      ]
     },
     "execution_count": 79,
     "metadata": {},
     "output_type": "execute_result"
    }
   ],
   "source": [
    "op = ScatterMax()\n",
    "input = torch.tensor([.5, .1, .0, .7, .3, .1])\n",
    "idx = torch.tensor([0, 0, 1, 1, 1, 3])\n",
    "output, _ = op.forward(input, idx, dim=0, dim_size=4)\n",
    "rel_out = torch.tensor([5, 3, 10, 1], dtype=torch.float)\n",
    "rel_in = op.relevance(rel_out)\n",
    "make_table([\n",
    "    ['input', 'idx', 'output', 'rel_out', 'idx', 'rel_in'],\n",
    "    [input,    idx,   output,   rel_out,   idx,   rel_in.numpy().round(2)],\n",
    "    ['Σ',        '',      '',   rel_out.sum(), '', rel_in.sum()],\n",
    "])"
   ]
  },
  {
   "cell_type": "markdown",
   "metadata": {
    "toc-hr-collapsed": false
   },
   "source": [
    "## Scatter Max as $\\ell_p$ pooling"
   ]
  },
  {
   "cell_type": "code",
   "execution_count": 80,
   "metadata": {},
   "outputs": [],
   "source": [
    "def scatter_lp(input, idx, size, p=1000):\n",
    "    return scatter_add(input ** p, idx, size) ** (1/p)"
   ]
  },
  {
   "cell_type": "markdown",
   "metadata": {},
   "source": [
    "With `p=1` it's the same as `sum`:"
   ]
  },
  {
   "cell_type": "code",
   "execution_count": 81,
   "metadata": {},
   "outputs": [
    {
     "data": {
      "text/html": [
       "<table><tr><td style=\"text-align: left; vertical-align: middle;\"><pre>input</pre></td><td style=\"text-align: left; vertical-align: middle;\"><pre>idx</pre></td><td style=\"text-align: left; vertical-align: middle;\"><pre>output</pre></td></tr><tr><td style=\"text-align: left; vertical-align: middle;\"><pre>[[0.5]<br/> [0.2]<br/> [0. ]<br/> [0.5]<br/> [0.5]<br/> [0.1]]</pre></td><td style=\"text-align: left; vertical-align: middle;\"><pre>[[0]<br/> [0]<br/> [1]<br/> [1]<br/> [1]<br/> [3]]</pre></td><td style=\"text-align: left; vertical-align: middle;\"><pre>[[0.7]<br/> [1. ]<br/> [0. ]<br/> [0.1]]</pre></td></tr></table>"
      ],
      "text/plain": [
       "<IPython.core.display.HTML object>"
      ]
     },
     "execution_count": 81,
     "metadata": {},
     "output_type": "execute_result"
    }
   ],
   "source": [
    "input = torch.tensor([.5, .2, .0, .5, .5, .1])\n",
    "idx = torch.tensor([0, 0, 1, 1, 1, 3])\n",
    "output = scatter_lp(input, idx, 4, p=1)\n",
    "\n",
    "make_table([\n",
    "    ['input', 'idx', 'output'],\n",
    "    [input,    idx,   output],\n",
    "])"
   ]
  },
  {
   "cell_type": "markdown",
   "metadata": {},
   "source": [
    "The highest the `p` the closes we get to `max`"
   ]
  },
  {
   "cell_type": "code",
   "execution_count": 82,
   "metadata": {},
   "outputs": [
    {
     "data": {
      "text/html": [
       "<table><tr><td style=\"text-align: left; vertical-align: middle;\"><pre>input</pre></td><td style=\"text-align: left; vertical-align: middle;\"><pre>idx</pre></td><td style=\"text-align: left; vertical-align: middle;\"><pre>output</pre></td></tr><tr><td style=\"text-align: left; vertical-align: middle;\"><pre>[[0.5]<br/> [0.2]<br/> [0. ]<br/> [0.5]<br/> [0.5]<br/> [0.1]]</pre></td><td style=\"text-align: left; vertical-align: middle;\"><pre>[[0]<br/> [0]<br/> [1]<br/> [1]<br/> [1]<br/> [3]]</pre></td><td style=\"text-align: left; vertical-align: middle;\"><pre>[[0.50000525]<br/> [0.5358867 ]<br/> [0.        ]<br/> [0.1       ]]</pre></td></tr></table>"
      ],
      "text/plain": [
       "<IPython.core.display.HTML object>"
      ]
     },
     "execution_count": 82,
     "metadata": {},
     "output_type": "execute_result"
    }
   ],
   "source": [
    "input = torch.tensor([.5, .2, .0, .5, .5, .1])\n",
    "idx = torch.tensor([0, 0, 1, 1, 1, 3])\n",
    "output = scatter_lp(input, idx, 4, p=10)\n",
    "\n",
    "make_table([\n",
    "    ['input', 'idx', 'output'],\n",
    "    [input,    idx,   output],\n",
    "])"
   ]
  },
  {
   "cell_type": "markdown",
   "metadata": {},
   "source": [
    "How to define relevance for powers like $x^p$? It's not linear anymore therefore the Taylor decomposition fails."
   ]
  },
  {
   "cell_type": "code",
   "execution_count": 83,
   "metadata": {},
   "outputs": [],
   "source": [
    "def scatter_lp_relevance(input, idx, output, rel_out):\n",
    "    return scatter_add_relevance(input, idx, output, rel_out)"
   ]
  },
  {
   "cell_type": "code",
   "execution_count": 85,
   "metadata": {},
   "outputs": [
    {
     "data": {
      "text/html": [
       "<table><tr><td style=\"text-align: left; vertical-align: middle;\"><pre>input</pre></td><td style=\"text-align: left; vertical-align: middle;\"><pre>idx</pre></td><td style=\"text-align: left; vertical-align: middle;\"><pre>output</pre></td><td style=\"text-align: left; vertical-align: middle;\"><pre>rel_out</pre></td><td style=\"text-align: left; vertical-align: middle;\"><pre>idx</pre></td><td style=\"text-align: left; vertical-align: middle;\"><pre>rel_in</pre></td></tr><tr><td style=\"text-align: left; vertical-align: middle;\"><pre>[[0.5]<br/> [0.2]<br/> [0. ]<br/> [0.5]<br/> [0.5]<br/> [0.1]]</pre></td><td style=\"text-align: left; vertical-align: middle;\"><pre>[[0]<br/> [0]<br/> [1]<br/> [1]<br/> [1]<br/> [3]]</pre></td><td style=\"text-align: left; vertical-align: middle;\"><pre>[[0.50000525]<br/> [0.5358867 ]<br/> [0.        ]<br/> [0.1       ]]</pre></td><td style=\"text-align: left; vertical-align: middle;\"><pre>[[5.]<br/> [3.]<br/> [0.]<br/> [1.]]</pre></td><td style=\"text-align: left; vertical-align: middle;\"><pre>[[0]<br/> [0]<br/> [1]<br/> [1]<br/> [1]<br/> [3]]</pre></td><td style=\"text-align: left; vertical-align: middle;\"><pre>[[5. ]<br/> [2. ]<br/> [0. ]<br/> [2.8]<br/> [2.8]<br/> [1. ]]</pre></td></tr><tr><td style=\"text-align: left; vertical-align: middle;\"><pre>Σ</pre></td><td style=\"text-align: left; vertical-align: middle;\"><pre></pre></td><td style=\"text-align: left; vertical-align: middle;\"><pre></pre></td><td style=\"text-align: left; vertical-align: middle;\"><pre>9.0</pre></td><td style=\"text-align: left; vertical-align: middle;\"><pre></pre></td><td style=\"text-align: left; vertical-align: middle;\"><pre>13.6</pre></td></tr></table>"
      ],
      "text/plain": [
       "<IPython.core.display.HTML object>"
      ]
     },
     "execution_count": 85,
     "metadata": {},
     "output_type": "execute_result"
    }
   ],
   "source": [
    "input = torch.tensor([.5, .2, .0, .5, .5, .1])\n",
    "idx = torch.tensor([0, 0, 1, 1, 1, 3])\n",
    "rel_out = torch.tensor([5, 3, 0, 1], dtype=torch.float)\n",
    "rel_in = scatter_add_relevance(input, idx, output, rel_out)\n",
    "\n",
    "make_table([\n",
    "    ['input', 'idx', 'output', 'rel_out', 'idx', 'rel_in'],\n",
    "    [input,    idx,   output,   rel_out,   idx,   rel_in.numpy().round(2)],\n",
    "    ['Σ',        '',      '',   rel_out.sum(), '', rel_in.sum().numpy().round(2)],\n",
    "])"
   ]
  }
 ],
 "metadata": {
  "kernelspec": {
   "display_name": "Python [conda env:notes]",
   "language": "python",
   "name": "conda-env-notes-py"
  },
  "language_info": {
   "codemirror_mode": {
    "name": "ipython",
    "version": 3
   },
   "file_extension": ".py",
   "mimetype": "text/x-python",
   "name": "python",
   "nbconvert_exporter": "python",
   "pygments_lexer": "ipython3",
   "version": "3.7.2"
  }
 },
 "nbformat": 4,
 "nbformat_minor": 2
}
